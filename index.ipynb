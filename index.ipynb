{
 "cells": [
  {
   "cell_type": "markdown",
   "metadata": {},
   "source": [
    "# Working with Known JSON Schemas\n",
    "\n",
    "## Introduction\n",
    "You've started taking a look at JSON files and you'll continue to explore how to navigate and traverse these files. One common use case of JSON files will be when you are connecting to various websites through their established APIs to retrieve data from them. With these, you are typically given a schema for how the data is structured and then will use this knowledge to retrieve pertinent information.\n",
    "\n",
    "## Objectives\n",
    "\n",
    "You will be able to:\n",
    "\n",
    "* Use the JSON module to load and parse JSON documents\n",
    "* Extract data using predefined JSON schemas\n",
    "* Convert JSON to a pandas DataFrame\n",
    "\n",
    "## Reading a JSON Schema\n",
    "\n",
    "In this lesson, you'll take a look at the response from the New York Times API. The general idea is that the New York Times makes some of its data available over the web, and it uses the JSON format to do so.\n",
    "\n",
    "Here's the JSON schema provided for a section of the NY Times API:\n",
    "<img src=\"images/schema_overview.png\" width=\"400\">\n",
    "\n",
    "or a more detailed view (truncated):\n",
    "\n",
    "<img src=\"images/schema_detailed.png\" width=\"500\">"
   ]
  },
  {
   "cell_type": "markdown",
   "metadata": {},
   "source": [
    "You can see that the master structure is a dictionary and has a key named `'response'`. The value associated with the `'response'` key is also a dictionary and has two keys: `'docs'` and `'meta'`. As you continue to examine the schema hierarchy, you'll notice the vast majority of the elements comprising this data structure, in this case, are dictionaries. "
   ]
  },
  {
   "cell_type": "markdown",
   "metadata": {},
   "source": [
    "## Loading the Data File\n",
    "\n",
    "As we have done in previous lessons, let's start by importing this data from the file. The code below uses the `json` module ([documentation here](https://docs.python.org/3/library/json.html)) and built-in `open` function to load the data from a JSON file into a Python object called `data`.\n",
    "\n",
    "> In the cell below, first import the json library, then type the following code to load the file and assign it to the variable `data`:\n",
    "\n",
    "```\n",
    "with open('ny_times_response.json', 'r') as f:\n",
    "    data = json.load(f)\n",
    "```"
   ]
  },
  {
   "cell_type": "code",
   "execution_count": null,
   "metadata": {},
   "outputs": [],
   "source": [
    "# replace this comment with the code to import the JSON library\n",
    "\n",
    "# replace this comment with the code to load the desired file and assign it to the variable"
   ]
  },
  {
   "cell_type": "code",
   "execution_count": 13,
   "metadata": {},
   "outputs": [],
   "source": [
    "# import the json library\n",
    "import json\n",
    "\n",
    "# Load the 'ny_times_response.json file\n",
    "with open('ny_times_response.json', 'r') as f:\n",
    "    data = json.load(f)"
   ]
  },
  {
   "cell_type": "code",
   "execution_count": 14,
   "metadata": {},
   "outputs": [
    {
     "data": {
      "text/plain": [
       "{'status': 'OK',\n",
       " 'copyright': 'Copyright (c) 2018 The New York Times Company. All Rights Reserved.',\n",
       " 'response': {'docs': [{'web_url': 'https://query.nytimes.com/gst/abstract.html?res=9C05E3D7113DE633A25754C1A9679D946597D6CF',\n",
       "    'snippet': 'Spent $22,200',\n",
       "    'abstract': 'Spent $22,200',\n",
       "    'print_page': '2',\n",
       "    'blog': {},\n",
       "    'source': 'The New York Times',\n",
       "    'multimedia': [],\n",
       "    'headline': {'main': \"HIGGINS, SPENT $22,189.53.; Governor-Elect's Election Expenses -- Harrison $9,220.28.\",\n",
       "     'kicker': None,\n",
       "     'content_kicker': None,\n",
       "     'print_headline': None,\n",
       "     'name': None,\n",
       "     'seo': None,\n",
       "     'sub': None},\n",
       "    'keywords': [{'name': 'persons',\n",
       "      'value': 'HIGGINS, LT. GOV.',\n",
       "      'rank': 0,\n",
       "      'major': None}],\n",
       "    'pub_date': '1904-11-17T00:00:00Z',\n",
       "    'document_type': 'article',\n",
       "    'type_of_material': 'Article',\n",
       "    '_id': '4fc04eb745c1498b0d23da00',\n",
       "    'word_count': 213,\n",
       "    'score': 1},\n",
       "   {'web_url': 'https://query.nytimes.com/gst/abstract.html?res=9E07E6DA1F3BE433A25750C2A9669D946593D6CF',\n",
       "    'snippet': '',\n",
       "    'print_page': '15',\n",
       "    'blog': {},\n",
       "    'source': 'The New York Times',\n",
       "    'multimedia': [],\n",
       "    'headline': {'main': 'GARDEN BOUTS CANCELED; Mauriello Says He Could Not Be Ready on Nov. 3',\n",
       "     'kicker': '1',\n",
       "     'content_kicker': None,\n",
       "     'print_headline': None,\n",
       "     'name': None,\n",
       "     'seo': None,\n",
       "     'sub': None},\n",
       "    'keywords': [],\n",
       "    'pub_date': '1944-10-23T00:00:00Z',\n",
       "    'document_type': 'article',\n",
       "    'type_of_material': 'Article',\n",
       "    '_id': '4fc21ebf45c1498b0d612b22',\n",
       "    'word_count': 149,\n",
       "    'score': 1},\n",
       "   {'web_url': 'https://query.nytimes.com/gst/abstract.html?res=9E07E1DB1330E531A15756C1A9639C946492D6CF',\n",
       "    'snippet': 'Stock prices last week, on the lightest volume of the year, sustained the largest losses in about two months. Some technicians were inclined to believe that if offerings became heavier on the decline, the averages could challenge the lows of the f...',\n",
       "    'print_page': 'F1',\n",
       "    'blog': {},\n",
       "    'source': 'The New York Times',\n",
       "    'multimedia': [],\n",
       "    'headline': {'main': 'Stock Drop Is Biggest in 2 Months--Margin Rise Held Factor in Lightest Trading of 1955',\n",
       "     'kicker': '1',\n",
       "     'content_kicker': None,\n",
       "     'print_headline': None,\n",
       "     'name': None,\n",
       "     'seo': None,\n",
       "     'sub': None},\n",
       "    'keywords': [],\n",
       "    'pub_date': '1955-05-15T00:00:00Z',\n",
       "    'document_type': 'article',\n",
       "    'byline': {'original': 'By JOHN G. FORREST',\n",
       "     'person': [{'firstname': 'John',\n",
       "       'middlename': 'G.',\n",
       "       'lastname': 'FORREST',\n",
       "       'qualifier': None,\n",
       "       'title': None,\n",
       "       'role': 'reported',\n",
       "       'organization': '',\n",
       "       'rank': 1}],\n",
       "     'organization': None},\n",
       "    'type_of_material': 'Article',\n",
       "    '_id': '4fc3b41d45c1498b0d7fd41e',\n",
       "    'word_count': 823,\n",
       "    'score': 1},\n",
       "   {'web_url': 'https://query.nytimes.com/gst/abstract.html?res=9504EEDE123BE733A25755C0A9679D946597D6CF',\n",
       "    'snippet': 'The first public rehearsal and concert of the Philharmonic Society will be given at Carnegie Hall on Friday afternoon and Saturday evening. Gustav F. Kogel, the former director of the Museum Concert at Frankfort-on-the-Main, will be the conductor....',\n",
       "    'abstract': 'Healy, Michael, will suit',\n",
       "    'print_page': '20',\n",
       "    'blog': {},\n",
       "    'source': 'The New York Times',\n",
       "    'multimedia': [],\n",
       "    'headline': {'main': 'MUSIC OF THE WEEK',\n",
       "     'kicker': None,\n",
       "     'content_kicker': None,\n",
       "     'print_headline': None,\n",
       "     'name': None,\n",
       "     'seo': None,\n",
       "     'sub': None},\n",
       "    'keywords': [{'name': 'persons',\n",
       "      'value': 'HEALY, MICHAEL',\n",
       "      'rank': 0,\n",
       "      'major': None}],\n",
       "    'pub_date': '1904-11-06T00:00:00Z',\n",
       "    'document_type': 'article',\n",
       "    'type_of_material': 'Article',\n",
       "    '_id': '4fc04eb745c1498b0d23da12',\n",
       "    'word_count': 2609,\n",
       "    'score': 1},\n",
       "   {'web_url': 'https://www.nytimes.com/1992/05/06/business/anacomp-inc-reports-earnings-for-qtr-to-march-31.html',\n",
       "    'snippet': '',\n",
       "    'print_page': '20',\n",
       "    'blog': {},\n",
       "    'source': 'The New York Times',\n",
       "    'multimedia': [],\n",
       "    'headline': {'main': 'Anacomp Inc. reports earnings for Qtr to March 31',\n",
       "     'kicker': None,\n",
       "     'content_kicker': None,\n",
       "     'print_headline': None,\n",
       "     'name': None,\n",
       "     'seo': None,\n",
       "     'sub': None},\n",
       "    'keywords': [{'name': 'subject',\n",
       "      'value': 'COMPANY EARNINGS',\n",
       "      'rank': 0,\n",
       "      'major': None}],\n",
       "    'pub_date': '1992-05-06T00:00:00Z',\n",
       "    'document_type': 'article',\n",
       "    'news_desk': 'Financial Desk',\n",
       "    'type_of_material': 'Statistics',\n",
       "    '_id': '4fd1b3018eb7c8105d6d690a',\n",
       "    'word_count': 129,\n",
       "    'score': 1},\n",
       "   {'web_url': 'https://query.nytimes.com/gst/abstract.html?res=9503EFDF153DE53ABC4C51DFB4678389669EDE',\n",
       "    'snippet': '',\n",
       "    'print_page': 'S9',\n",
       "    'blog': {},\n",
       "    'source': 'The New York Times',\n",
       "    'multimedia': [],\n",
       "    'headline': {'main': 'Brooklyn Routs Yeshiva',\n",
       "     'kicker': '1',\n",
       "     'content_kicker': None,\n",
       "     'print_headline': None,\n",
       "     'name': None,\n",
       "     'seo': None,\n",
       "     'sub': None},\n",
       "    'keywords': [],\n",
       "    'pub_date': '1972-12-24T00:00:00Z',\n",
       "    'document_type': 'article',\n",
       "    'type_of_material': 'Article',\n",
       "    '_id': '4fc47bb045c1498b0da03363',\n",
       "    'word_count': 144,\n",
       "    'score': 1},\n",
       "   {'web_url': 'https://query.nytimes.com/gst/abstract.html?res=9F03E1DA1631E63BBC4D51DFB4678389669EDE',\n",
       "    'snippet': 'ALBUQUERQUE, N. M., Dec. 24 -- Holiday drinkers who have drunk too much can get free rides home from now until Jan. 2 through a test program being carried out by taxi companies, university students and a local alcohol safety organization.  ',\n",
       "    'print_page': '11',\n",
       "    'blog': {},\n",
       "    'source': 'The New York Times',\n",
       "    'multimedia': [],\n",
       "    'headline': {'main': 'Albuquerque Program Gives Drinkers a Lift',\n",
       "     'kicker': '1',\n",
       "     'content_kicker': None,\n",
       "     'print_headline': None,\n",
       "     'name': None,\n",
       "     'seo': None,\n",
       "     'sub': None},\n",
       "    'keywords': [],\n",
       "    'pub_date': '1972-12-25T00:00:00Z',\n",
       "    'document_type': 'article',\n",
       "    'byline': {'original': 'Special to The New York Times',\n",
       "     'person': [{'firstname': None,\n",
       "       'middlename': None,\n",
       "       'lastname': None,\n",
       "       'qualifier': None,\n",
       "       'title': None,\n",
       "       'role': 'reported',\n",
       "       'organization': '',\n",
       "       'rank': 1}],\n",
       "     'organization': None},\n",
       "    'type_of_material': 'Article',\n",
       "    '_id': '4fc47bb045c1498b0da03367',\n",
       "    'word_count': 151,\n",
       "    'score': 1},\n",
       "   {'web_url': 'https://query.nytimes.com/gst/abstract.html?res=9905E6DD153EE03BBC4C51DFB667838F659EDE',\n",
       "    'snippet': '',\n",
       "    'print_page': '1',\n",
       "    'blog': {},\n",
       "    'source': 'The New York Times',\n",
       "    'multimedia': [],\n",
       "    'headline': {'main': 'Front Page 7 -- No Title',\n",
       "     'kicker': '1',\n",
       "     'content_kicker': None,\n",
       "     'print_headline': None,\n",
       "     'name': None,\n",
       "     'seo': None,\n",
       "     'sub': None},\n",
       "    'keywords': [],\n",
       "    'pub_date': '1944-10-24T00:00:00Z',\n",
       "    'document_type': 'article',\n",
       "    'type_of_material': 'Front Page',\n",
       "    '_id': '4fc21ebf45c1498b0d612b3c',\n",
       "    'word_count': 29,\n",
       "    'score': 1},\n",
       "   {'web_url': 'https://query.nytimes.com/gst/abstract.html?res=9507EFDB1F3AE733A25755C0A96E9C946597D6CF',\n",
       "    'snippet': 'The employers and the unions have lined up in preparation for a long fight in the building war. An indication of the feeling that this will be a real fight is the appointment of a regular Press Committee by the employers. Members of their associat...',\n",
       "    'abstract': \"housesmiths won't strike\",\n",
       "    'print_page': '1',\n",
       "    'blog': {},\n",
       "    'source': 'The New York Times',\n",
       "    'multimedia': [],\n",
       "    'headline': {'main': 'UNIONS AND BUILDERS READY FOR LONG FIGHT; None of the Strikers Back - Lock-Out Soon in Effect. 23,000 ALREADY INVOLVED Orders Sent to Every Building Employer Within Twenty-five Miles -- House-smiths Vote Not to Strike.',\n",
       "     'kicker': None,\n",
       "     'content_kicker': None,\n",
       "     'print_headline': None,\n",
       "     'name': None,\n",
       "     'seo': None,\n",
       "     'sub': None},\n",
       "    'keywords': [{'name': 'glocations',\n",
       "      'value': 'NEW YORK CITY',\n",
       "      'rank': 0,\n",
       "      'major': None},\n",
       "     {'name': 'subject', 'value': 'STRIKES', 'rank': 0, 'major': None},\n",
       "     {'name': 'subject',\n",
       "      'value': 'PENN. MINERS THREATEN',\n",
       "      'rank': 0,\n",
       "      'major': None},\n",
       "     {'name': 'subject',\n",
       "      'value': 'BLDG. TRADES EMP. ASS. MAY LOCK OUT 30,000',\n",
       "      'rank': 0,\n",
       "      'major': None},\n",
       "     {'name': 'subject',\n",
       "      'value': '23,000 MEN INVOLVED',\n",
       "      'rank': 0,\n",
       "      'major': None}],\n",
       "    'pub_date': '1904-08-06T00:00:00Z',\n",
       "    'document_type': 'article',\n",
       "    'type_of_material': 'Front Page',\n",
       "    '_id': '4fc04eb745c1498b0d23da17',\n",
       "    'word_count': 883,\n",
       "    'score': 1}],\n",
       "  'meta': {'hits': 15533655, 'offset': 0, 'time': 207}}}"
      ]
     },
     "execution_count": 14,
     "metadata": {},
     "output_type": "execute_result"
    }
   ],
   "source": [
    "data"
   ]
  },
  {
   "cell_type": "code",
   "execution_count": 15,
   "metadata": {},
   "outputs": [
    {
     "name": "stdout",
     "output_type": "stream",
     "text": [
      "Requirement already satisfied: genson in c:\\users\\koech\\anaconda3\\lib\\site-packages (1.3.0)\n"
     ]
    }
   ],
   "source": [
    "# Use genson library to view th json schema\n",
    "!pip install genson"
   ]
  },
  {
   "cell_type": "code",
   "execution_count": 16,
   "metadata": {},
   "outputs": [],
   "source": [
    "# Load the genson package\n",
    "from genson import SchemaBuilder"
   ]
  },
  {
   "cell_type": "code",
   "execution_count": 20,
   "metadata": {},
   "outputs": [
    {
     "name": "stdout",
     "output_type": "stream",
     "text": [
      "{\n",
      "    \"$schema\": \"http://json-schema.org/schema#\",\n",
      "    \"type\": \"object\",\n",
      "    \"properties\": {\n",
      "        \"status\": {\n",
      "            \"type\": \"string\"\n",
      "        },\n",
      "        \"copyright\": {\n",
      "            \"type\": \"string\"\n",
      "        },\n",
      "        \"response\": {\n",
      "            \"type\": \"object\",\n",
      "            \"properties\": {\n",
      "                \"docs\": {\n",
      "                    \"type\": \"array\",\n",
      "                    \"items\": {\n",
      "                        \"type\": \"object\",\n",
      "                        \"properties\": {\n",
      "                            \"web_url\": {\n",
      "                                \"type\": \"string\"\n",
      "                            },\n",
      "                            \"snippet\": {\n",
      "                                \"type\": \"string\"\n",
      "                            },\n",
      "                            \"abstract\": {\n",
      "                                \"type\": \"string\"\n",
      "                            },\n",
      "                            \"print_page\": {\n",
      "                                \"type\": \"string\"\n",
      "                            },\n",
      "                            \"blog\": {\n",
      "                                \"type\": \"object\"\n",
      "                            },\n",
      "                            \"source\": {\n",
      "                                \"type\": \"string\"\n",
      "                            },\n",
      "                            \"multimedia\": {\n",
      "                                \"type\": \"array\"\n",
      "                            },\n",
      "                            \"headline\": {\n",
      "                                \"type\": \"object\",\n",
      "                                \"properties\": {\n",
      "                                    \"main\": {\n",
      "                                        \"type\": \"string\"\n",
      "                                    },\n",
      "                                    \"kicker\": {\n",
      "                                        \"type\": [\n",
      "                                            \"null\",\n",
      "                                            \"string\"\n",
      "                                        ]\n",
      "                                    },\n",
      "                                    \"content_kicker\": {\n",
      "                                        \"type\": \"null\"\n",
      "                                    },\n",
      "                                    \"print_headline\": {\n",
      "                                        \"type\": \"null\"\n",
      "                                    },\n",
      "                                    \"name\": {\n",
      "                                        \"type\": \"null\"\n",
      "                                    },\n",
      "                                    \"seo\": {\n",
      "                                        \"type\": \"null\"\n",
      "                                    },\n",
      "                                    \"sub\": {\n",
      "                                        \"type\": \"null\"\n",
      "                                    }\n",
      "                                },\n",
      "                                \"required\": [\n",
      "                                    \"content_kicker\",\n",
      "                                    \"kicker\",\n",
      "                                    \"main\",\n",
      "                                    \"name\",\n",
      "                                    \"print_headline\",\n",
      "                                    \"seo\",\n",
      "                                    \"sub\"\n",
      "                                ]\n",
      "                            },\n",
      "                            \"keywords\": {\n",
      "                                \"type\": \"array\",\n",
      "                                \"items\": {\n",
      "                                    \"type\": \"object\",\n",
      "                                    \"properties\": {\n",
      "                                        \"name\": {\n",
      "                                            \"type\": \"string\"\n",
      "                                        },\n",
      "                                        \"value\": {\n",
      "                                            \"type\": \"string\"\n",
      "                                        },\n",
      "                                        \"rank\": {\n",
      "                                            \"type\": \"integer\"\n",
      "                                        },\n",
      "                                        \"major\": {\n",
      "                                            \"type\": \"null\"\n",
      "                                        }\n",
      "                                    },\n",
      "                                    \"required\": [\n",
      "                                        \"major\",\n",
      "                                        \"name\",\n",
      "                                        \"rank\",\n",
      "                                        \"value\"\n",
      "                                    ]\n",
      "                                }\n",
      "                            },\n",
      "                            \"pub_date\": {\n",
      "                                \"type\": \"string\"\n",
      "                            },\n",
      "                            \"document_type\": {\n",
      "                                \"type\": \"string\"\n",
      "                            },\n",
      "                            \"type_of_material\": {\n",
      "                                \"type\": \"string\"\n",
      "                            },\n",
      "                            \"_id\": {\n",
      "                                \"type\": \"string\"\n",
      "                            },\n",
      "                            \"word_count\": {\n",
      "                                \"type\": \"integer\"\n",
      "                            },\n",
      "                            \"score\": {\n",
      "                                \"type\": \"integer\"\n",
      "                            },\n",
      "                            \"byline\": {\n",
      "                                \"type\": \"object\",\n",
      "                                \"properties\": {\n",
      "                                    \"original\": {\n",
      "                                        \"type\": \"string\"\n",
      "                                    },\n",
      "                                    \"person\": {\n",
      "                                        \"type\": \"array\",\n",
      "                                        \"items\": {\n",
      "                                            \"type\": \"object\",\n",
      "                                            \"properties\": {\n",
      "                                                \"firstname\": {\n",
      "                                                    \"type\": [\n",
      "                                                        \"null\",\n",
      "                                                        \"string\"\n",
      "                                                    ]\n",
      "                                                },\n",
      "                                                \"middlename\": {\n",
      "                                                    \"type\": [\n",
      "                                                        \"null\",\n",
      "                                                        \"string\"\n",
      "                                                    ]\n",
      "                                                },\n",
      "                                                \"lastname\": {\n",
      "                                                    \"type\": [\n",
      "                                                        \"null\",\n",
      "                                                        \"string\"\n",
      "                                                    ]\n",
      "                                                },\n",
      "                                                \"qualifier\": {\n",
      "                                                    \"type\": \"null\"\n",
      "                                                },\n",
      "                                                \"title\": {\n",
      "                                                    \"type\": \"null\"\n",
      "                                                },\n",
      "                                                \"role\": {\n",
      "                                                    \"type\": \"string\"\n",
      "                                                },\n",
      "                                                \"organization\": {\n",
      "                                                    \"type\": \"string\"\n",
      "                                                },\n",
      "                                                \"rank\": {\n",
      "                                                    \"type\": \"integer\"\n",
      "                                                }\n",
      "                                            },\n",
      "                                            \"required\": [\n",
      "                                                \"firstname\",\n",
      "                                                \"lastname\",\n",
      "                                                \"middlename\",\n",
      "                                                \"organization\",\n",
      "                                                \"qualifier\",\n",
      "                                                \"rank\",\n",
      "                                                \"role\",\n",
      "                                                \"title\"\n",
      "                                            ]\n",
      "                                        }\n",
      "                                    },\n",
      "                                    \"organization\": {\n",
      "                                        \"type\": \"null\"\n",
      "                                    }\n",
      "                                },\n",
      "                                \"required\": [\n",
      "                                    \"organization\",\n",
      "                                    \"original\",\n",
      "                                    \"person\"\n",
      "                                ]\n",
      "                            },\n",
      "                            \"news_desk\": {\n",
      "                                \"type\": \"string\"\n",
      "                            }\n",
      "                        },\n",
      "                        \"required\": [\n",
      "                            \"_id\",\n",
      "                            \"blog\",\n",
      "                            \"document_type\",\n",
      "                            \"headline\",\n",
      "                            \"keywords\",\n",
      "                            \"multimedia\",\n",
      "                            \"print_page\",\n",
      "                            \"pub_date\",\n",
      "                            \"score\",\n",
      "                            \"snippet\",\n",
      "                            \"source\",\n",
      "                            \"type_of_material\",\n",
      "                            \"web_url\",\n",
      "                            \"word_count\"\n",
      "                        ]\n",
      "                    }\n",
      "                },\n",
      "                \"meta\": {\n",
      "                    \"type\": \"object\",\n",
      "                    \"properties\": {\n",
      "                        \"hits\": {\n",
      "                            \"type\": \"integer\"\n",
      "                        },\n",
      "                        \"offset\": {\n",
      "                            \"type\": \"integer\"\n",
      "                        },\n",
      "                        \"time\": {\n",
      "                            \"type\": \"integer\"\n",
      "                        }\n",
      "                    },\n",
      "                    \"required\": [\n",
      "                        \"hits\",\n",
      "                        \"offset\",\n",
      "                        \"time\"\n",
      "                    ]\n",
      "                }\n",
      "            },\n",
      "            \"required\": [\n",
      "                \"docs\",\n",
      "                \"meta\"\n",
      "            ]\n",
      "        }\n",
      "    },\n",
      "    \"required\": [\n",
      "        \"copyright\",\n",
      "        \"response\",\n",
      "        \"status\"\n",
      "    ]\n",
      "}\n"
     ]
    }
   ],
   "source": [
    "# Initialize SchemaBuilder\n",
    "builder = SchemaBuilder()\n",
    "\n",
    "# Add the json data to the schema builder\n",
    "builder.add_object(data)\n",
    "builder\n",
    "# Generate and display the JSON Schema\n",
    "json_schema = builder.to_schema()\n",
    "json_schema\n",
    "print(json.dumps(json_schema, indent=4))"
   ]
  },
  {
   "cell_type": "code",
   "execution_count": 21,
   "metadata": {},
   "outputs": [
    {
     "data": {
      "text/plain": [
       "dict_keys(['status', 'copyright', 'response'])"
      ]
     },
     "execution_count": 21,
     "metadata": {},
     "output_type": "execute_result"
    }
   ],
   "source": [
    "data.keys()"
   ]
  },
  {
   "cell_type": "code",
   "execution_count": null,
   "metadata": {},
   "outputs": [],
   "source": [
    "# Extract the details on the status key"
   ]
  },
  {
   "cell_type": "code",
   "execution_count": null,
   "metadata": {},
   "outputs": [],
   "source": [
    "# Initialize SchemaBuilder\n",
    "builder = SchemaBuilder()\n",
    "\n",
    "# Add the json data to the schema builder\n",
    "builder.add_object(data)\n",
    "\n",
    "# Generate and display the JSON Schema\n",
    "json_schema = builder.to_schema()\n",
    "print(json.dumps())"
   ]
  },
  {
   "cell_type": "code",
   "execution_count": null,
   "metadata": {},
   "outputs": [],
   "source": []
  },
  {
   "cell_type": "code",
   "execution_count": 1,
   "metadata": {},
   "outputs": [],
   "source": [
    "# replace this comment with the code to import the JSON library\n",
    "import json\n",
    "\n",
    "# replace this comment with the code to load the desired file and assign it to the variable\n",
    "with open('ny_times_response.json', 'r') as f:\n",
    "    data = json.load(f)"
   ]
  },
  {
   "cell_type": "markdown",
   "metadata": {},
   "source": [
    "Now we can inspect what we loaded with some tools we are already familiar with.\n",
    "> In the cell below, use the `type()` function to print the data type of the loaded file `data`, then print the keys of the file using the `keys()` method."
   ]
  },
  {
   "cell_type": "code",
   "execution_count": null,
   "metadata": {},
   "outputs": [],
   "source": [
    "# replace this comment with the code to print the data type of the file `data`\n",
    "\n",
    "# replace this comment with the code to print the keys of the file"
   ]
  },
  {
   "cell_type": "code",
   "execution_count": null,
   "metadata": {},
   "outputs": [],
   "source": []
  },
  {
   "cell_type": "code",
   "execution_count": null,
   "metadata": {},
   "outputs": [],
   "source": []
  },
  {
   "cell_type": "code",
   "execution_count": null,
   "metadata": {},
   "outputs": [],
   "source": []
  },
  {
   "cell_type": "code",
   "execution_count": null,
   "metadata": {},
   "outputs": [],
   "source": []
  },
  {
   "cell_type": "code",
   "execution_count": 2,
   "metadata": {},
   "outputs": [
    {
     "data": {
      "text/plain": [
       "dict"
      ]
     },
     "execution_count": 2,
     "metadata": {},
     "output_type": "execute_result"
    }
   ],
   "source": [
    "type(data)"
   ]
  },
  {
   "cell_type": "code",
   "execution_count": 3,
   "metadata": {},
   "outputs": [
    {
     "data": {
      "text/plain": [
       "dict_keys(['status', 'copyright', 'response'])"
      ]
     },
     "execution_count": 3,
     "metadata": {},
     "output_type": "execute_result"
    }
   ],
   "source": [
    "data.keys()"
   ]
  },
  {
   "cell_type": "code",
   "execution_count": null,
   "metadata": {},
   "outputs": [],
   "source": []
  },
  {
   "cell_type": "code",
   "execution_count": null,
   "metadata": {},
   "outputs": [],
   "source": []
  },
  {
   "cell_type": "code",
   "execution_count": null,
   "metadata": {},
   "outputs": [],
   "source": [
    "# -EXPECTED OUTPUT-\n",
    "# <class 'dict'>\n",
    "# dict_keys(['status', 'copyright', 'response'])"
   ]
  },
  {
   "cell_type": "markdown",
   "metadata": {},
   "source": [
    "You should see that there are two additional keys `'status'` and `'copyright'` which were not shown in the schema documentation. As with most forms of documentation, it's important to be aware that published schemas may differ somewhat from the actual data, and your code should be able to handle these unexpected differences, within reason."
   ]
  },
  {
   "cell_type": "code",
   "execution_count": 6,
   "metadata": {},
   "outputs": [
    {
     "name": "stdout",
     "output_type": "stream",
     "text": [
      "Collecting genson\n",
      "  Downloading genson-1.3.0-py3-none-any.whl (21 kB)\n",
      "Installing collected packages: genson\n",
      "Successfully installed genson-1.3.0\n"
     ]
    }
   ],
   "source": [
    "!pip install genson\n"
   ]
  },
  {
   "cell_type": "code",
   "execution_count": 8,
   "metadata": {},
   "outputs": [
    {
     "name": "stdout",
     "output_type": "stream",
     "text": [
      "{\n",
      "    \"$schema\": \"http://json-schema.org/schema#\",\n",
      "    \"type\": \"object\",\n",
      "    \"properties\": {\n",
      "        \"status\": {\n",
      "            \"type\": \"string\"\n",
      "        },\n",
      "        \"copyright\": {\n",
      "            \"type\": \"string\"\n",
      "        },\n",
      "        \"response\": {\n",
      "            \"type\": \"object\",\n",
      "            \"properties\": {\n",
      "                \"docs\": {\n",
      "                    \"type\": \"array\",\n",
      "                    \"items\": {\n",
      "                        \"type\": \"object\",\n",
      "                        \"properties\": {\n",
      "                            \"web_url\": {\n",
      "                                \"type\": \"string\"\n",
      "                            },\n",
      "                            \"snippet\": {\n",
      "                                \"type\": \"string\"\n",
      "                            },\n",
      "                            \"abstract\": {\n",
      "                                \"type\": \"string\"\n",
      "                            },\n",
      "                            \"print_page\": {\n",
      "                                \"type\": \"string\"\n",
      "                            },\n",
      "                            \"blog\": {\n",
      "                                \"type\": \"object\"\n",
      "                            },\n",
      "                            \"source\": {\n",
      "                                \"type\": \"string\"\n",
      "                            },\n",
      "                            \"multimedia\": {\n",
      "                                \"type\": \"array\"\n",
      "                            },\n",
      "                            \"headline\": {\n",
      "                                \"type\": \"object\",\n",
      "                                \"properties\": {\n",
      "                                    \"main\": {\n",
      "                                        \"type\": \"string\"\n",
      "                                    },\n",
      "                                    \"kicker\": {\n",
      "                                        \"type\": [\n",
      "                                            \"null\",\n",
      "                                            \"string\"\n",
      "                                        ]\n",
      "                                    },\n",
      "                                    \"content_kicker\": {\n",
      "                                        \"type\": \"null\"\n",
      "                                    },\n",
      "                                    \"print_headline\": {\n",
      "                                        \"type\": \"null\"\n",
      "                                    },\n",
      "                                    \"name\": {\n",
      "                                        \"type\": \"null\"\n",
      "                                    },\n",
      "                                    \"seo\": {\n",
      "                                        \"type\": \"null\"\n",
      "                                    },\n",
      "                                    \"sub\": {\n",
      "                                        \"type\": \"null\"\n",
      "                                    }\n",
      "                                },\n",
      "                                \"required\": [\n",
      "                                    \"content_kicker\",\n",
      "                                    \"kicker\",\n",
      "                                    \"main\",\n",
      "                                    \"name\",\n",
      "                                    \"print_headline\",\n",
      "                                    \"seo\",\n",
      "                                    \"sub\"\n",
      "                                ]\n",
      "                            },\n",
      "                            \"keywords\": {\n",
      "                                \"type\": \"array\",\n",
      "                                \"items\": {\n",
      "                                    \"type\": \"object\",\n",
      "                                    \"properties\": {\n",
      "                                        \"name\": {\n",
      "                                            \"type\": \"string\"\n",
      "                                        },\n",
      "                                        \"value\": {\n",
      "                                            \"type\": \"string\"\n",
      "                                        },\n",
      "                                        \"rank\": {\n",
      "                                            \"type\": \"integer\"\n",
      "                                        },\n",
      "                                        \"major\": {\n",
      "                                            \"type\": \"null\"\n",
      "                                        }\n",
      "                                    },\n",
      "                                    \"required\": [\n",
      "                                        \"major\",\n",
      "                                        \"name\",\n",
      "                                        \"rank\",\n",
      "                                        \"value\"\n",
      "                                    ]\n",
      "                                }\n",
      "                            },\n",
      "                            \"pub_date\": {\n",
      "                                \"type\": \"string\"\n",
      "                            },\n",
      "                            \"document_type\": {\n",
      "                                \"type\": \"string\"\n",
      "                            },\n",
      "                            \"type_of_material\": {\n",
      "                                \"type\": \"string\"\n",
      "                            },\n",
      "                            \"_id\": {\n",
      "                                \"type\": \"string\"\n",
      "                            },\n",
      "                            \"word_count\": {\n",
      "                                \"type\": \"integer\"\n",
      "                            },\n",
      "                            \"score\": {\n",
      "                                \"type\": \"integer\"\n",
      "                            },\n",
      "                            \"byline\": {\n",
      "                                \"type\": \"object\",\n",
      "                                \"properties\": {\n",
      "                                    \"original\": {\n",
      "                                        \"type\": \"string\"\n",
      "                                    },\n",
      "                                    \"person\": {\n",
      "                                        \"type\": \"array\",\n",
      "                                        \"items\": {\n",
      "                                            \"type\": \"object\",\n",
      "                                            \"properties\": {\n",
      "                                                \"firstname\": {\n",
      "                                                    \"type\": [\n",
      "                                                        \"null\",\n",
      "                                                        \"string\"\n",
      "                                                    ]\n",
      "                                                },\n",
      "                                                \"middlename\": {\n",
      "                                                    \"type\": [\n",
      "                                                        \"null\",\n",
      "                                                        \"string\"\n",
      "                                                    ]\n",
      "                                                },\n",
      "                                                \"lastname\": {\n",
      "                                                    \"type\": [\n",
      "                                                        \"null\",\n",
      "                                                        \"string\"\n",
      "                                                    ]\n",
      "                                                },\n",
      "                                                \"qualifier\": {\n",
      "                                                    \"type\": \"null\"\n",
      "                                                },\n",
      "                                                \"title\": {\n",
      "                                                    \"type\": \"null\"\n",
      "                                                },\n",
      "                                                \"role\": {\n",
      "                                                    \"type\": \"string\"\n",
      "                                                },\n",
      "                                                \"organization\": {\n",
      "                                                    \"type\": \"string\"\n",
      "                                                },\n",
      "                                                \"rank\": {\n",
      "                                                    \"type\": \"integer\"\n",
      "                                                }\n",
      "                                            },\n",
      "                                            \"required\": [\n",
      "                                                \"firstname\",\n",
      "                                                \"lastname\",\n",
      "                                                \"middlename\",\n",
      "                                                \"organization\",\n",
      "                                                \"qualifier\",\n",
      "                                                \"rank\",\n",
      "                                                \"role\",\n",
      "                                                \"title\"\n",
      "                                            ]\n",
      "                                        }\n",
      "                                    },\n",
      "                                    \"organization\": {\n",
      "                                        \"type\": \"null\"\n",
      "                                    }\n",
      "                                },\n",
      "                                \"required\": [\n",
      "                                    \"organization\",\n",
      "                                    \"original\",\n",
      "                                    \"person\"\n",
      "                                ]\n",
      "                            },\n",
      "                            \"news_desk\": {\n",
      "                                \"type\": \"string\"\n",
      "                            }\n",
      "                        },\n",
      "                        \"required\": [\n",
      "                            \"_id\",\n",
      "                            \"blog\",\n",
      "                            \"document_type\",\n",
      "                            \"headline\",\n",
      "                            \"keywords\",\n",
      "                            \"multimedia\",\n",
      "                            \"print_page\",\n",
      "                            \"pub_date\",\n",
      "                            \"score\",\n",
      "                            \"snippet\",\n",
      "                            \"source\",\n",
      "                            \"type_of_material\",\n",
      "                            \"web_url\",\n",
      "                            \"word_count\"\n",
      "                        ]\n",
      "                    }\n",
      "                },\n",
      "                \"meta\": {\n",
      "                    \"type\": \"object\",\n",
      "                    \"properties\": {\n",
      "                        \"hits\": {\n",
      "                            \"type\": \"integer\"\n",
      "                        },\n",
      "                        \"offset\": {\n",
      "                            \"type\": \"integer\"\n",
      "                        },\n",
      "                        \"time\": {\n",
      "                            \"type\": \"integer\"\n",
      "                        }\n",
      "                    },\n",
      "                    \"required\": [\n",
      "                        \"hits\",\n",
      "                        \"offset\",\n",
      "                        \"time\"\n",
      "                    ]\n",
      "                }\n",
      "            },\n",
      "            \"required\": [\n",
      "                \"docs\",\n",
      "                \"meta\"\n",
      "            ]\n",
      "        }\n",
      "    },\n",
      "    \"required\": [\n",
      "        \"copyright\",\n",
      "        \"response\",\n",
      "        \"status\"\n",
      "    ]\n",
      "}\n"
     ]
    }
   ],
   "source": [
    "from genson import SchemaBuilder\n",
    "# Initialize SchemaBuilder\n",
    "builder = SchemaBuilder()\n",
    "\n",
    "# Add the JSON data to the schema builder\n",
    "builder.add_object(data)\n",
    "\n",
    "# Generate and display the JSON schema\n",
    "json_schema = builder.to_schema()\n",
    "print(json.dumps(json_schema, indent=4))"
   ]
  },
  {
   "cell_type": "markdown",
   "metadata": {},
   "source": [
    "## Loading Specific Data\n",
    "\n",
    "Looking at the schema, you might be interested in retrieving a specific piece of data, such as the articles' headlines. Notice that this is a key under `'docs'`, which is under `'response'`. So the schema is roughly: data --> 'response' --> 'docs' --> 'headline', something like `data['response']['docs']['headline']`.\n",
    "\n",
    "Let's see what happens if we try that:\n",
    "\n",
    "> In the cell below, type the following code to retreive the data:\n",
    "```\n",
    "data['response']['docs']['headline']\n",
    "```"
   ]
  },
  {
   "cell_type": "code",
   "execution_count": 22,
   "metadata": {},
   "outputs": [
    {
     "data": {
      "text/plain": [
       "dict_keys(['status', 'copyright', 'response'])"
      ]
     },
     "execution_count": 22,
     "metadata": {},
     "output_type": "execute_result"
    }
   ],
   "source": [
    "data.keys()"
   ]
  },
  {
   "cell_type": "code",
   "execution_count": 24,
   "metadata": {},
   "outputs": [
    {
     "data": {
      "text/plain": [
       "'Copyright (c) 2018 The New York Times Company. All Rights Reserved.'"
      ]
     },
     "execution_count": 24,
     "metadata": {},
     "output_type": "execute_result"
    }
   ],
   "source": [
    "data['copyright']"
   ]
  },
  {
   "cell_type": "code",
   "execution_count": 23,
   "metadata": {},
   "outputs": [
    {
     "data": {
      "text/plain": [
       "'OK'"
      ]
     },
     "execution_count": 23,
     "metadata": {},
     "output_type": "execute_result"
    }
   ],
   "source": [
    "data['status']"
   ]
  },
  {
   "cell_type": "code",
   "execution_count": 25,
   "metadata": {},
   "outputs": [
    {
     "data": {
      "text/plain": [
       "{'docs': [{'web_url': 'https://query.nytimes.com/gst/abstract.html?res=9C05E3D7113DE633A25754C1A9679D946597D6CF',\n",
       "   'snippet': 'Spent $22,200',\n",
       "   'abstract': 'Spent $22,200',\n",
       "   'print_page': '2',\n",
       "   'blog': {},\n",
       "   'source': 'The New York Times',\n",
       "   'multimedia': [],\n",
       "   'headline': {'main': \"HIGGINS, SPENT $22,189.53.; Governor-Elect's Election Expenses -- Harrison $9,220.28.\",\n",
       "    'kicker': None,\n",
       "    'content_kicker': None,\n",
       "    'print_headline': None,\n",
       "    'name': None,\n",
       "    'seo': None,\n",
       "    'sub': None},\n",
       "   'keywords': [{'name': 'persons',\n",
       "     'value': 'HIGGINS, LT. GOV.',\n",
       "     'rank': 0,\n",
       "     'major': None}],\n",
       "   'pub_date': '1904-11-17T00:00:00Z',\n",
       "   'document_type': 'article',\n",
       "   'type_of_material': 'Article',\n",
       "   '_id': '4fc04eb745c1498b0d23da00',\n",
       "   'word_count': 213,\n",
       "   'score': 1},\n",
       "  {'web_url': 'https://query.nytimes.com/gst/abstract.html?res=9E07E6DA1F3BE433A25750C2A9669D946593D6CF',\n",
       "   'snippet': '',\n",
       "   'print_page': '15',\n",
       "   'blog': {},\n",
       "   'source': 'The New York Times',\n",
       "   'multimedia': [],\n",
       "   'headline': {'main': 'GARDEN BOUTS CANCELED; Mauriello Says He Could Not Be Ready on Nov. 3',\n",
       "    'kicker': '1',\n",
       "    'content_kicker': None,\n",
       "    'print_headline': None,\n",
       "    'name': None,\n",
       "    'seo': None,\n",
       "    'sub': None},\n",
       "   'keywords': [],\n",
       "   'pub_date': '1944-10-23T00:00:00Z',\n",
       "   'document_type': 'article',\n",
       "   'type_of_material': 'Article',\n",
       "   '_id': '4fc21ebf45c1498b0d612b22',\n",
       "   'word_count': 149,\n",
       "   'score': 1},\n",
       "  {'web_url': 'https://query.nytimes.com/gst/abstract.html?res=9E07E1DB1330E531A15756C1A9639C946492D6CF',\n",
       "   'snippet': 'Stock prices last week, on the lightest volume of the year, sustained the largest losses in about two months. Some technicians were inclined to believe that if offerings became heavier on the decline, the averages could challenge the lows of the f...',\n",
       "   'print_page': 'F1',\n",
       "   'blog': {},\n",
       "   'source': 'The New York Times',\n",
       "   'multimedia': [],\n",
       "   'headline': {'main': 'Stock Drop Is Biggest in 2 Months--Margin Rise Held Factor in Lightest Trading of 1955',\n",
       "    'kicker': '1',\n",
       "    'content_kicker': None,\n",
       "    'print_headline': None,\n",
       "    'name': None,\n",
       "    'seo': None,\n",
       "    'sub': None},\n",
       "   'keywords': [],\n",
       "   'pub_date': '1955-05-15T00:00:00Z',\n",
       "   'document_type': 'article',\n",
       "   'byline': {'original': 'By JOHN G. FORREST',\n",
       "    'person': [{'firstname': 'John',\n",
       "      'middlename': 'G.',\n",
       "      'lastname': 'FORREST',\n",
       "      'qualifier': None,\n",
       "      'title': None,\n",
       "      'role': 'reported',\n",
       "      'organization': '',\n",
       "      'rank': 1}],\n",
       "    'organization': None},\n",
       "   'type_of_material': 'Article',\n",
       "   '_id': '4fc3b41d45c1498b0d7fd41e',\n",
       "   'word_count': 823,\n",
       "   'score': 1},\n",
       "  {'web_url': 'https://query.nytimes.com/gst/abstract.html?res=9504EEDE123BE733A25755C0A9679D946597D6CF',\n",
       "   'snippet': 'The first public rehearsal and concert of the Philharmonic Society will be given at Carnegie Hall on Friday afternoon and Saturday evening. Gustav F. Kogel, the former director of the Museum Concert at Frankfort-on-the-Main, will be the conductor....',\n",
       "   'abstract': 'Healy, Michael, will suit',\n",
       "   'print_page': '20',\n",
       "   'blog': {},\n",
       "   'source': 'The New York Times',\n",
       "   'multimedia': [],\n",
       "   'headline': {'main': 'MUSIC OF THE WEEK',\n",
       "    'kicker': None,\n",
       "    'content_kicker': None,\n",
       "    'print_headline': None,\n",
       "    'name': None,\n",
       "    'seo': None,\n",
       "    'sub': None},\n",
       "   'keywords': [{'name': 'persons',\n",
       "     'value': 'HEALY, MICHAEL',\n",
       "     'rank': 0,\n",
       "     'major': None}],\n",
       "   'pub_date': '1904-11-06T00:00:00Z',\n",
       "   'document_type': 'article',\n",
       "   'type_of_material': 'Article',\n",
       "   '_id': '4fc04eb745c1498b0d23da12',\n",
       "   'word_count': 2609,\n",
       "   'score': 1},\n",
       "  {'web_url': 'https://www.nytimes.com/1992/05/06/business/anacomp-inc-reports-earnings-for-qtr-to-march-31.html',\n",
       "   'snippet': '',\n",
       "   'print_page': '20',\n",
       "   'blog': {},\n",
       "   'source': 'The New York Times',\n",
       "   'multimedia': [],\n",
       "   'headline': {'main': 'Anacomp Inc. reports earnings for Qtr to March 31',\n",
       "    'kicker': None,\n",
       "    'content_kicker': None,\n",
       "    'print_headline': None,\n",
       "    'name': None,\n",
       "    'seo': None,\n",
       "    'sub': None},\n",
       "   'keywords': [{'name': 'subject',\n",
       "     'value': 'COMPANY EARNINGS',\n",
       "     'rank': 0,\n",
       "     'major': None}],\n",
       "   'pub_date': '1992-05-06T00:00:00Z',\n",
       "   'document_type': 'article',\n",
       "   'news_desk': 'Financial Desk',\n",
       "   'type_of_material': 'Statistics',\n",
       "   '_id': '4fd1b3018eb7c8105d6d690a',\n",
       "   'word_count': 129,\n",
       "   'score': 1},\n",
       "  {'web_url': 'https://query.nytimes.com/gst/abstract.html?res=9503EFDF153DE53ABC4C51DFB4678389669EDE',\n",
       "   'snippet': '',\n",
       "   'print_page': 'S9',\n",
       "   'blog': {},\n",
       "   'source': 'The New York Times',\n",
       "   'multimedia': [],\n",
       "   'headline': {'main': 'Brooklyn Routs Yeshiva',\n",
       "    'kicker': '1',\n",
       "    'content_kicker': None,\n",
       "    'print_headline': None,\n",
       "    'name': None,\n",
       "    'seo': None,\n",
       "    'sub': None},\n",
       "   'keywords': [],\n",
       "   'pub_date': '1972-12-24T00:00:00Z',\n",
       "   'document_type': 'article',\n",
       "   'type_of_material': 'Article',\n",
       "   '_id': '4fc47bb045c1498b0da03363',\n",
       "   'word_count': 144,\n",
       "   'score': 1},\n",
       "  {'web_url': 'https://query.nytimes.com/gst/abstract.html?res=9F03E1DA1631E63BBC4D51DFB4678389669EDE',\n",
       "   'snippet': 'ALBUQUERQUE, N. M., Dec. 24 -- Holiday drinkers who have drunk too much can get free rides home from now until Jan. 2 through a test program being carried out by taxi companies, university students and a local alcohol safety organization.  ',\n",
       "   'print_page': '11',\n",
       "   'blog': {},\n",
       "   'source': 'The New York Times',\n",
       "   'multimedia': [],\n",
       "   'headline': {'main': 'Albuquerque Program Gives Drinkers a Lift',\n",
       "    'kicker': '1',\n",
       "    'content_kicker': None,\n",
       "    'print_headline': None,\n",
       "    'name': None,\n",
       "    'seo': None,\n",
       "    'sub': None},\n",
       "   'keywords': [],\n",
       "   'pub_date': '1972-12-25T00:00:00Z',\n",
       "   'document_type': 'article',\n",
       "   'byline': {'original': 'Special to The New York Times',\n",
       "    'person': [{'firstname': None,\n",
       "      'middlename': None,\n",
       "      'lastname': None,\n",
       "      'qualifier': None,\n",
       "      'title': None,\n",
       "      'role': 'reported',\n",
       "      'organization': '',\n",
       "      'rank': 1}],\n",
       "    'organization': None},\n",
       "   'type_of_material': 'Article',\n",
       "   '_id': '4fc47bb045c1498b0da03367',\n",
       "   'word_count': 151,\n",
       "   'score': 1},\n",
       "  {'web_url': 'https://query.nytimes.com/gst/abstract.html?res=9905E6DD153EE03BBC4C51DFB667838F659EDE',\n",
       "   'snippet': '',\n",
       "   'print_page': '1',\n",
       "   'blog': {},\n",
       "   'source': 'The New York Times',\n",
       "   'multimedia': [],\n",
       "   'headline': {'main': 'Front Page 7 -- No Title',\n",
       "    'kicker': '1',\n",
       "    'content_kicker': None,\n",
       "    'print_headline': None,\n",
       "    'name': None,\n",
       "    'seo': None,\n",
       "    'sub': None},\n",
       "   'keywords': [],\n",
       "   'pub_date': '1944-10-24T00:00:00Z',\n",
       "   'document_type': 'article',\n",
       "   'type_of_material': 'Front Page',\n",
       "   '_id': '4fc21ebf45c1498b0d612b3c',\n",
       "   'word_count': 29,\n",
       "   'score': 1},\n",
       "  {'web_url': 'https://query.nytimes.com/gst/abstract.html?res=9507EFDB1F3AE733A25755C0A96E9C946597D6CF',\n",
       "   'snippet': 'The employers and the unions have lined up in preparation for a long fight in the building war. An indication of the feeling that this will be a real fight is the appointment of a regular Press Committee by the employers. Members of their associat...',\n",
       "   'abstract': \"housesmiths won't strike\",\n",
       "   'print_page': '1',\n",
       "   'blog': {},\n",
       "   'source': 'The New York Times',\n",
       "   'multimedia': [],\n",
       "   'headline': {'main': 'UNIONS AND BUILDERS READY FOR LONG FIGHT; None of the Strikers Back - Lock-Out Soon in Effect. 23,000 ALREADY INVOLVED Orders Sent to Every Building Employer Within Twenty-five Miles -- House-smiths Vote Not to Strike.',\n",
       "    'kicker': None,\n",
       "    'content_kicker': None,\n",
       "    'print_headline': None,\n",
       "    'name': None,\n",
       "    'seo': None,\n",
       "    'sub': None},\n",
       "   'keywords': [{'name': 'glocations',\n",
       "     'value': 'NEW YORK CITY',\n",
       "     'rank': 0,\n",
       "     'major': None},\n",
       "    {'name': 'subject', 'value': 'STRIKES', 'rank': 0, 'major': None},\n",
       "    {'name': 'subject',\n",
       "     'value': 'PENN. MINERS THREATEN',\n",
       "     'rank': 0,\n",
       "     'major': None},\n",
       "    {'name': 'subject',\n",
       "     'value': 'BLDG. TRADES EMP. ASS. MAY LOCK OUT 30,000',\n",
       "     'rank': 0,\n",
       "     'major': None},\n",
       "    {'name': 'subject',\n",
       "     'value': '23,000 MEN INVOLVED',\n",
       "     'rank': 0,\n",
       "     'major': None}],\n",
       "   'pub_date': '1904-08-06T00:00:00Z',\n",
       "   'document_type': 'article',\n",
       "   'type_of_material': 'Front Page',\n",
       "   '_id': '4fc04eb745c1498b0d23da17',\n",
       "   'word_count': 883,\n",
       "   'score': 1}],\n",
       " 'meta': {'hits': 15533655, 'offset': 0, 'time': 207}}"
      ]
     },
     "execution_count": 25,
     "metadata": {},
     "output_type": "execute_result"
    }
   ],
   "source": [
    "data['response']"
   ]
  },
  {
   "cell_type": "code",
   "execution_count": 26,
   "metadata": {},
   "outputs": [
    {
     "data": {
      "text/plain": [
       "dict"
      ]
     },
     "execution_count": 26,
     "metadata": {},
     "output_type": "execute_result"
    }
   ],
   "source": [
    "type(data['response'])"
   ]
  },
  {
   "cell_type": "code",
   "execution_count": 27,
   "metadata": {},
   "outputs": [
    {
     "data": {
      "text/plain": [
       "dict_keys(['docs', 'meta'])"
      ]
     },
     "execution_count": 27,
     "metadata": {},
     "output_type": "execute_result"
    }
   ],
   "source": [
    "data['response'].keys()"
   ]
  },
  {
   "cell_type": "code",
   "execution_count": 31,
   "metadata": {},
   "outputs": [
    {
     "data": {
      "text/plain": [
       "dict_keys(['web_url', 'snippet', 'abstract', 'print_page', 'blog', 'source', 'multimedia', 'headline', 'keywords', 'pub_date', 'document_type', 'type_of_material', '_id', 'word_count', 'score'])"
      ]
     },
     "execution_count": 31,
     "metadata": {},
     "output_type": "execute_result"
    }
   ],
   "source": [
    "data['response']['docs'][0].keys()"
   ]
  },
  {
   "cell_type": "code",
   "execution_count": 33,
   "metadata": {},
   "outputs": [
    {
     "data": {
      "text/plain": [
       "dict_keys(['web_url', 'snippet', 'print_page', 'blog', 'source', 'multimedia', 'headline', 'keywords', 'pub_date', 'document_type', 'type_of_material', '_id', 'word_count', 'score'])"
      ]
     },
     "execution_count": 33,
     "metadata": {},
     "output_type": "execute_result"
    }
   ],
   "source": [
    "data['response']['docs'][1].keys()"
   ]
  },
  {
   "cell_type": "code",
   "execution_count": 35,
   "metadata": {},
   "outputs": [
    {
     "data": {
      "text/plain": [
       "dict_keys(['web_url', 'snippet', 'print_page', 'blog', 'source', 'multimedia', 'headline', 'keywords', 'pub_date', 'document_type', 'byline', 'type_of_material', '_id', 'word_count', 'score'])"
      ]
     },
     "execution_count": 35,
     "metadata": {},
     "output_type": "execute_result"
    }
   ],
   "source": [
    "data['response']['docs'][2].keys()"
   ]
  },
  {
   "cell_type": "code",
   "execution_count": 38,
   "metadata": {},
   "outputs": [
    {
     "data": {
      "text/plain": [
       "{'hits': 15533655, 'offset': 0, 'time': 207}"
      ]
     },
     "execution_count": 38,
     "metadata": {},
     "output_type": "execute_result"
    }
   ],
   "source": [
    "data['response']['meta']"
   ]
  },
  {
   "cell_type": "code",
   "execution_count": 39,
   "metadata": {},
   "outputs": [
    {
     "data": {
      "text/html": [
       "<div>\n",
       "<style scoped>\n",
       "    .dataframe tbody tr th:only-of-type {\n",
       "        vertical-align: middle;\n",
       "    }\n",
       "\n",
       "    .dataframe tbody tr th {\n",
       "        vertical-align: top;\n",
       "    }\n",
       "\n",
       "    .dataframe thead th {\n",
       "        text-align: right;\n",
       "    }\n",
       "</style>\n",
       "<table border=\"1\" class=\"dataframe\">\n",
       "  <thead>\n",
       "    <tr style=\"text-align: right;\">\n",
       "      <th></th>\n",
       "      <th>web_url</th>\n",
       "      <th>snippet</th>\n",
       "      <th>abstract</th>\n",
       "      <th>print_page</th>\n",
       "      <th>blog</th>\n",
       "      <th>source</th>\n",
       "      <th>multimedia</th>\n",
       "      <th>headline</th>\n",
       "      <th>keywords</th>\n",
       "      <th>pub_date</th>\n",
       "      <th>document_type</th>\n",
       "      <th>type_of_material</th>\n",
       "      <th>_id</th>\n",
       "      <th>word_count</th>\n",
       "      <th>score</th>\n",
       "      <th>byline</th>\n",
       "      <th>news_desk</th>\n",
       "    </tr>\n",
       "  </thead>\n",
       "  <tbody>\n",
       "    <tr>\n",
       "      <th>0</th>\n",
       "      <td>https://query.nytimes.com/gst/abstract.html?re...</td>\n",
       "      <td>Spent $22,200</td>\n",
       "      <td>Spent $22,200</td>\n",
       "      <td>2</td>\n",
       "      <td>{}</td>\n",
       "      <td>The New York Times</td>\n",
       "      <td>[]</td>\n",
       "      <td>{'main': 'HIGGINS, SPENT $22,189.53.; Governor...</td>\n",
       "      <td>[{'name': 'persons', 'value': 'HIGGINS, LT. GO...</td>\n",
       "      <td>1904-11-17T00:00:00Z</td>\n",
       "      <td>article</td>\n",
       "      <td>Article</td>\n",
       "      <td>4fc04eb745c1498b0d23da00</td>\n",
       "      <td>213</td>\n",
       "      <td>1</td>\n",
       "      <td>NaN</td>\n",
       "      <td>NaN</td>\n",
       "    </tr>\n",
       "    <tr>\n",
       "      <th>1</th>\n",
       "      <td>https://query.nytimes.com/gst/abstract.html?re...</td>\n",
       "      <td></td>\n",
       "      <td>NaN</td>\n",
       "      <td>15</td>\n",
       "      <td>{}</td>\n",
       "      <td>The New York Times</td>\n",
       "      <td>[]</td>\n",
       "      <td>{'main': 'GARDEN BOUTS CANCELED; Mauriello Say...</td>\n",
       "      <td>[]</td>\n",
       "      <td>1944-10-23T00:00:00Z</td>\n",
       "      <td>article</td>\n",
       "      <td>Article</td>\n",
       "      <td>4fc21ebf45c1498b0d612b22</td>\n",
       "      <td>149</td>\n",
       "      <td>1</td>\n",
       "      <td>NaN</td>\n",
       "      <td>NaN</td>\n",
       "    </tr>\n",
       "    <tr>\n",
       "      <th>2</th>\n",
       "      <td>https://query.nytimes.com/gst/abstract.html?re...</td>\n",
       "      <td>Stock prices last week, on the lightest volume...</td>\n",
       "      <td>NaN</td>\n",
       "      <td>F1</td>\n",
       "      <td>{}</td>\n",
       "      <td>The New York Times</td>\n",
       "      <td>[]</td>\n",
       "      <td>{'main': 'Stock Drop Is Biggest in 2 Months--M...</td>\n",
       "      <td>[]</td>\n",
       "      <td>1955-05-15T00:00:00Z</td>\n",
       "      <td>article</td>\n",
       "      <td>Article</td>\n",
       "      <td>4fc3b41d45c1498b0d7fd41e</td>\n",
       "      <td>823</td>\n",
       "      <td>1</td>\n",
       "      <td>{'original': 'By JOHN G. FORREST', 'person': [...</td>\n",
       "      <td>NaN</td>\n",
       "    </tr>\n",
       "    <tr>\n",
       "      <th>3</th>\n",
       "      <td>https://query.nytimes.com/gst/abstract.html?re...</td>\n",
       "      <td>The first public rehearsal and concert of the ...</td>\n",
       "      <td>Healy, Michael, will suit</td>\n",
       "      <td>20</td>\n",
       "      <td>{}</td>\n",
       "      <td>The New York Times</td>\n",
       "      <td>[]</td>\n",
       "      <td>{'main': 'MUSIC OF THE WEEK', 'kicker': None, ...</td>\n",
       "      <td>[{'name': 'persons', 'value': 'HEALY, MICHAEL'...</td>\n",
       "      <td>1904-11-06T00:00:00Z</td>\n",
       "      <td>article</td>\n",
       "      <td>Article</td>\n",
       "      <td>4fc04eb745c1498b0d23da12</td>\n",
       "      <td>2609</td>\n",
       "      <td>1</td>\n",
       "      <td>NaN</td>\n",
       "      <td>NaN</td>\n",
       "    </tr>\n",
       "    <tr>\n",
       "      <th>4</th>\n",
       "      <td>https://www.nytimes.com/1992/05/06/business/an...</td>\n",
       "      <td></td>\n",
       "      <td>NaN</td>\n",
       "      <td>20</td>\n",
       "      <td>{}</td>\n",
       "      <td>The New York Times</td>\n",
       "      <td>[]</td>\n",
       "      <td>{'main': 'Anacomp Inc. reports earnings for Qt...</td>\n",
       "      <td>[{'name': 'subject', 'value': 'COMPANY EARNING...</td>\n",
       "      <td>1992-05-06T00:00:00Z</td>\n",
       "      <td>article</td>\n",
       "      <td>Statistics</td>\n",
       "      <td>4fd1b3018eb7c8105d6d690a</td>\n",
       "      <td>129</td>\n",
       "      <td>1</td>\n",
       "      <td>NaN</td>\n",
       "      <td>Financial Desk</td>\n",
       "    </tr>\n",
       "    <tr>\n",
       "      <th>5</th>\n",
       "      <td>https://query.nytimes.com/gst/abstract.html?re...</td>\n",
       "      <td></td>\n",
       "      <td>NaN</td>\n",
       "      <td>S9</td>\n",
       "      <td>{}</td>\n",
       "      <td>The New York Times</td>\n",
       "      <td>[]</td>\n",
       "      <td>{'main': 'Brooklyn Routs Yeshiva', 'kicker': '...</td>\n",
       "      <td>[]</td>\n",
       "      <td>1972-12-24T00:00:00Z</td>\n",
       "      <td>article</td>\n",
       "      <td>Article</td>\n",
       "      <td>4fc47bb045c1498b0da03363</td>\n",
       "      <td>144</td>\n",
       "      <td>1</td>\n",
       "      <td>NaN</td>\n",
       "      <td>NaN</td>\n",
       "    </tr>\n",
       "    <tr>\n",
       "      <th>6</th>\n",
       "      <td>https://query.nytimes.com/gst/abstract.html?re...</td>\n",
       "      <td>ALBUQUERQUE, N. M., Dec. 24 -- Holiday drinker...</td>\n",
       "      <td>NaN</td>\n",
       "      <td>11</td>\n",
       "      <td>{}</td>\n",
       "      <td>The New York Times</td>\n",
       "      <td>[]</td>\n",
       "      <td>{'main': 'Albuquerque Program Gives Drinkers a...</td>\n",
       "      <td>[]</td>\n",
       "      <td>1972-12-25T00:00:00Z</td>\n",
       "      <td>article</td>\n",
       "      <td>Article</td>\n",
       "      <td>4fc47bb045c1498b0da03367</td>\n",
       "      <td>151</td>\n",
       "      <td>1</td>\n",
       "      <td>{'original': 'Special to The New York Times', ...</td>\n",
       "      <td>NaN</td>\n",
       "    </tr>\n",
       "    <tr>\n",
       "      <th>7</th>\n",
       "      <td>https://query.nytimes.com/gst/abstract.html?re...</td>\n",
       "      <td></td>\n",
       "      <td>NaN</td>\n",
       "      <td>1</td>\n",
       "      <td>{}</td>\n",
       "      <td>The New York Times</td>\n",
       "      <td>[]</td>\n",
       "      <td>{'main': 'Front Page 7 -- No Title', 'kicker':...</td>\n",
       "      <td>[]</td>\n",
       "      <td>1944-10-24T00:00:00Z</td>\n",
       "      <td>article</td>\n",
       "      <td>Front Page</td>\n",
       "      <td>4fc21ebf45c1498b0d612b3c</td>\n",
       "      <td>29</td>\n",
       "      <td>1</td>\n",
       "      <td>NaN</td>\n",
       "      <td>NaN</td>\n",
       "    </tr>\n",
       "    <tr>\n",
       "      <th>8</th>\n",
       "      <td>https://query.nytimes.com/gst/abstract.html?re...</td>\n",
       "      <td>The employers and the unions have lined up in ...</td>\n",
       "      <td>housesmiths won't strike</td>\n",
       "      <td>1</td>\n",
       "      <td>{}</td>\n",
       "      <td>The New York Times</td>\n",
       "      <td>[]</td>\n",
       "      <td>{'main': 'UNIONS AND BUILDERS READY FOR LONG F...</td>\n",
       "      <td>[{'name': 'glocations', 'value': 'NEW YORK CIT...</td>\n",
       "      <td>1904-08-06T00:00:00Z</td>\n",
       "      <td>article</td>\n",
       "      <td>Front Page</td>\n",
       "      <td>4fc04eb745c1498b0d23da17</td>\n",
       "      <td>883</td>\n",
       "      <td>1</td>\n",
       "      <td>NaN</td>\n",
       "      <td>NaN</td>\n",
       "    </tr>\n",
       "  </tbody>\n",
       "</table>\n",
       "</div>"
      ],
      "text/plain": [
       "                                             web_url  \\\n",
       "0  https://query.nytimes.com/gst/abstract.html?re...   \n",
       "1  https://query.nytimes.com/gst/abstract.html?re...   \n",
       "2  https://query.nytimes.com/gst/abstract.html?re...   \n",
       "3  https://query.nytimes.com/gst/abstract.html?re...   \n",
       "4  https://www.nytimes.com/1992/05/06/business/an...   \n",
       "5  https://query.nytimes.com/gst/abstract.html?re...   \n",
       "6  https://query.nytimes.com/gst/abstract.html?re...   \n",
       "7  https://query.nytimes.com/gst/abstract.html?re...   \n",
       "8  https://query.nytimes.com/gst/abstract.html?re...   \n",
       "\n",
       "                                             snippet  \\\n",
       "0                                      Spent $22,200   \n",
       "1                                                      \n",
       "2  Stock prices last week, on the lightest volume...   \n",
       "3  The first public rehearsal and concert of the ...   \n",
       "4                                                      \n",
       "5                                                      \n",
       "6  ALBUQUERQUE, N. M., Dec. 24 -- Holiday drinker...   \n",
       "7                                                      \n",
       "8  The employers and the unions have lined up in ...   \n",
       "\n",
       "                    abstract print_page blog              source multimedia  \\\n",
       "0              Spent $22,200          2   {}  The New York Times         []   \n",
       "1                        NaN         15   {}  The New York Times         []   \n",
       "2                        NaN         F1   {}  The New York Times         []   \n",
       "3  Healy, Michael, will suit         20   {}  The New York Times         []   \n",
       "4                        NaN         20   {}  The New York Times         []   \n",
       "5                        NaN         S9   {}  The New York Times         []   \n",
       "6                        NaN         11   {}  The New York Times         []   \n",
       "7                        NaN          1   {}  The New York Times         []   \n",
       "8   housesmiths won't strike          1   {}  The New York Times         []   \n",
       "\n",
       "                                            headline  \\\n",
       "0  {'main': 'HIGGINS, SPENT $22,189.53.; Governor...   \n",
       "1  {'main': 'GARDEN BOUTS CANCELED; Mauriello Say...   \n",
       "2  {'main': 'Stock Drop Is Biggest in 2 Months--M...   \n",
       "3  {'main': 'MUSIC OF THE WEEK', 'kicker': None, ...   \n",
       "4  {'main': 'Anacomp Inc. reports earnings for Qt...   \n",
       "5  {'main': 'Brooklyn Routs Yeshiva', 'kicker': '...   \n",
       "6  {'main': 'Albuquerque Program Gives Drinkers a...   \n",
       "7  {'main': 'Front Page 7 -- No Title', 'kicker':...   \n",
       "8  {'main': 'UNIONS AND BUILDERS READY FOR LONG F...   \n",
       "\n",
       "                                            keywords              pub_date  \\\n",
       "0  [{'name': 'persons', 'value': 'HIGGINS, LT. GO...  1904-11-17T00:00:00Z   \n",
       "1                                                 []  1944-10-23T00:00:00Z   \n",
       "2                                                 []  1955-05-15T00:00:00Z   \n",
       "3  [{'name': 'persons', 'value': 'HEALY, MICHAEL'...  1904-11-06T00:00:00Z   \n",
       "4  [{'name': 'subject', 'value': 'COMPANY EARNING...  1992-05-06T00:00:00Z   \n",
       "5                                                 []  1972-12-24T00:00:00Z   \n",
       "6                                                 []  1972-12-25T00:00:00Z   \n",
       "7                                                 []  1944-10-24T00:00:00Z   \n",
       "8  [{'name': 'glocations', 'value': 'NEW YORK CIT...  1904-08-06T00:00:00Z   \n",
       "\n",
       "  document_type type_of_material                       _id  word_count  score  \\\n",
       "0       article          Article  4fc04eb745c1498b0d23da00         213      1   \n",
       "1       article          Article  4fc21ebf45c1498b0d612b22         149      1   \n",
       "2       article          Article  4fc3b41d45c1498b0d7fd41e         823      1   \n",
       "3       article          Article  4fc04eb745c1498b0d23da12        2609      1   \n",
       "4       article       Statistics  4fd1b3018eb7c8105d6d690a         129      1   \n",
       "5       article          Article  4fc47bb045c1498b0da03363         144      1   \n",
       "6       article          Article  4fc47bb045c1498b0da03367         151      1   \n",
       "7       article       Front Page  4fc21ebf45c1498b0d612b3c          29      1   \n",
       "8       article       Front Page  4fc04eb745c1498b0d23da17         883      1   \n",
       "\n",
       "                                              byline       news_desk  \n",
       "0                                                NaN             NaN  \n",
       "1                                                NaN             NaN  \n",
       "2  {'original': 'By JOHN G. FORREST', 'person': [...             NaN  \n",
       "3                                                NaN             NaN  \n",
       "4                                                NaN  Financial Desk  \n",
       "5                                                NaN             NaN  \n",
       "6  {'original': 'Special to The New York Times', ...             NaN  \n",
       "7                                                NaN             NaN  \n",
       "8                                                NaN             NaN  "
      ]
     },
     "execution_count": 39,
     "metadata": {},
     "output_type": "execute_result"
    }
   ],
   "source": [
    "pd.DataFrame(data['response']['docs'])"
   ]
  },
  {
   "cell_type": "code",
   "execution_count": null,
   "metadata": {},
   "outputs": [],
   "source": [
    "# replace this comment with the code to show the contents of data->response->docs->headline"
   ]
  },
  {
   "cell_type": "code",
   "execution_count": null,
   "metadata": {},
   "outputs": [],
   "source": [
    "# -EXPECTED OUTPUT-\n",
    "\"\"\"\n",
    "---------------------------------------------------------------------------\n",
    "TypeError                                 Traceback (most recent call last)\n",
    "<ipython-input-3-0cb4d3140f8a> in <module>\n",
    "      1 # replace this comment with the code to show the contents of data->response->docs->headline\n",
    "----> 2 data['response']['docs']['headline']\n",
    "\n",
    "TypeError: list indices must be integers or slices, not str\n",
    "\"\"\""
   ]
  },
  {
   "cell_type": "markdown",
   "metadata": {},
   "source": [
    "Ok, this error message is saying that somewhere along the way, **we treated something like a dictionary when it was actually a list**. Let's break down that chain of commands to figure out what went wrong.\n",
    "\n",
    "We are pretty sure that `data['response']` will not cause an error, since we already checked that `data` is type `dict`, and that `'response'` is one of the keys. But what is the type of `data['response']`?"
   ]
  },
  {
   "cell_type": "code",
   "execution_count": null,
   "metadata": {},
   "outputs": [],
   "source": [
    "# replace this comment with the code to display the data type in data->response"
   ]
  },
  {
   "cell_type": "code",
   "execution_count": null,
   "metadata": {},
   "outputs": [],
   "source": [
    "# -EXPECTED OUTPUT-\n",
    "# dict"
   ]
  },
  {
   "cell_type": "markdown",
   "metadata": {},
   "source": [
    "Ok, that's a dictionary, too. How about `data['response']['docs']`?"
   ]
  },
  {
   "cell_type": "code",
   "execution_count": null,
   "metadata": {},
   "outputs": [],
   "source": [
    "# replace this comment with the code to display the data type of the data in data->response->docs"
   ]
  },
  {
   "cell_type": "code",
   "execution_count": null,
   "metadata": {},
   "outputs": [],
   "source": [
    "# -EXPECTED OUTPUT-\n",
    "# list"
   ]
  },
  {
   "cell_type": "markdown",
   "metadata": {},
   "source": [
    "So, that is the source of the error. We tried to treat this as a dictionary (accessing the value associated with the key `'headline'`) but it's a list.\n",
    "\n",
    "If you scroll back up to the schema pictured above, this makes sense. The value associated with the `'docs'` key is shown surrounded by `[` and `]`, right before the `{` and `}`, indicating that this is a *list* of dictionaries, not just a dictionary.\n",
    "\n",
    "You'll run into this kind of distinction repeatedly when working with JSON data. Sometimes values will be nested in unexpected ways, or you'll miss a key detail when you're skimming the schema. What's most important is that you're able to keep going and figure out what went wrong, not that you get it right on the first try.\n",
    "\n",
    "Now that we know that this is a list, let's extract it and print out some more information about it:\n",
    "\n",
    "> In the cell below, extract the data in `data['response']['docs']` and assign it to the variable `docs`.  Then display the following information about it:\n",
    " - the data type using `type()`\n",
    " - the length using `len()`\n",
    " - the contents of the first element of the list using the index `[0]`\n",
    " Try to make your output match the _-EXPECTED OUTPUT-_, we will help with the first line:\n",
    " ```\n",
    " print(\"`docs` is a data structure of type\", type(docs))\n",
    " ```\n",
    " or\n",
    " ```\n",
    " print(f\"`docs` is a data structure of type {type(docs)}\")\n",
    " ```"
   ]
  },
  {
   "cell_type": "code",
   "execution_count": 43,
   "metadata": {},
   "outputs": [
    {
     "data": {
      "text/plain": [
       "dict"
      ]
     },
     "execution_count": 43,
     "metadata": {},
     "output_type": "execute_result"
    }
   ],
   "source": [
    "docs = data['response']['docs'] # replace this comment with the code to extract the desired data and assign it to the variable\n",
    "docs\n",
    "\n",
    "type(docs) # replace this comment with the code to print the data type of `docs` \n",
    "len(docs) # replace this comment with the code to print the length\n",
    "type(docs[0])    # replace this comment with the code to print the data type of the first element"
   ]
  },
  {
   "cell_type": "code",
   "execution_count": null,
   "metadata": {},
   "outputs": [],
   "source": [
    "# -EXPECTED OUTPUT-\n",
    "# `docs` is a data structure of type <class 'list'>\n",
    "# It contains 9 elements\n",
    "# The first element is type <class 'dict'>"
   ]
  },
  {
   "cell_type": "markdown",
   "metadata": {},
   "source": [
    "This confirms what we expected. Now we can loop over that list of dictionaries and print the values associated with the `'headline'` keys:\n",
    "\n",
    "> In the following cell write a for loop or list comprehension to display each element one by one.  To do this use one of the following code blocks:  \n",
    "\n",
    "with a for loop:\n",
    "```\n",
    "for doc in docs:\n",
    "    print(doc['headline'])\n",
    "```\n",
    "or with list comprehension:\n",
    "```\n",
    "print([doc['headline'] for doc in docs])\n",
    "```"
   ]
  },
  {
   "cell_type": "code",
   "execution_count": null,
   "metadata": {},
   "outputs": [],
   "source": [
    "# replace this comment with either the for loop or the list comprehension to print each headline"
   ]
  },
  {
   "cell_type": "code",
   "execution_count": null,
   "metadata": {},
   "outputs": [],
   "source": [
    "# -EXPECTED OUTPUT-\n",
    "# for loop\n",
    "\"\"\"\n",
    "{'main': \"HIGGINS, SPENT $22,189.53.; Governor-Elect's Election Expenses -- Harrison $9,220.28.\", 'kicker': None, 'content_kicker': None, 'print_headline': None, 'name': None, 'seo': None, 'sub': None}\n",
    "{'main': 'GARDEN BOUTS CANCELED; Mauriello Says He Could Not Be Ready on Nov. 3', 'kicker': '1', 'content_kicker': None, 'print_headline': None, 'name': None, 'seo': None, 'sub': None}\n",
    "{'main': 'Stock Drop Is Biggest in 2 Months--Margin Rise Held Factor in Lightest Trading of 1955', 'kicker': '1', 'content_kicker': None, 'print_headline': None, 'name': None, 'seo': None, 'sub': None}\n",
    "{'main': 'MUSIC OF THE WEEK', 'kicker': None, 'content_kicker': None, 'print_headline': None, 'name': None, 'seo': None, 'sub': None}\n",
    "{'main': 'Anacomp Inc. reports earnings for Qtr to March 31', 'kicker': None, 'content_kicker': None, 'print_headline': None, 'name': None, 'seo': None, 'sub': None}\n",
    "{'main': 'Brooklyn Routs Yeshiva', 'kicker': '1', 'content_kicker': None, 'print_headline': None, 'name': None, 'seo': None, 'sub': None}\n",
    "{'main': 'Albuquerque Program Gives Drinkers a Lift', 'kicker': '1', 'content_kicker': None, 'print_headline': None, 'name': None, 'seo': None, 'sub': None}\n",
    "{'main': 'Front Page 7 -- No Title', 'kicker': '1', 'content_kicker': None, 'print_headline': None, 'name': None, 'seo': None, 'sub': None}\n",
    "{'main': 'UNIONS AND BUILDERS READY FOR LONG FIGHT; None of the Strikers Back - Lock-Out Soon in Effect. 23,000 ALREADY INVOLVED Orders Sent to Every Building Employer Within Twenty-five Miles -- House-smiths Vote Not to Strike.', 'kicker': None, 'content_kicker': None, 'print_headline': None, 'name': None, 'seo': None, 'sub': None}\n",
    "\"\"\"\n",
    "# or\n",
    "# list comprehension\n",
    "\"\"\"\n",
    "[{'main': \"HIGGINS, SPENT $22,189.53.; Governor-Elect's Election Expenses -- Harrison $9,220.28.\", 'kicker': None, 'content_kicker': None, 'print_headline': None, 'name': None, 'seo': None, 'sub': None}, {'main': 'GARDEN BOUTS CANCELED; Mauriello Says He Could Not Be Ready on Nov. 3', 'kicker': '1', 'content_kicker': None, 'print_headline': None, 'name': None, 'seo': None, 'sub': None}, {'main': 'Stock Drop Is Biggest in 2 Months--Margin Rise Held Factor in Lightest Trading of 1955', 'kicker': '1', 'content_kicker': None, 'print_headline': None, 'name': None, 'seo': None, 'sub': None}, {'main': 'MUSIC OF THE WEEK', 'kicker': None, 'content_kicker': None, 'print_headline': None, 'name': None, 'seo': None, 'sub': None}, {'main': 'Anacomp Inc. reports earnings for Qtr to March 31', 'kicker': None, 'content_kicker': None, 'print_headline': None, 'name': None, 'seo': None, 'sub': None}, {'main': 'Brooklyn Routs Yeshiva', 'kicker': '1', 'content_kicker': None, 'print_headline': None, 'name': None, 'seo': None, 'sub': None}, {'main': 'Albuquerque Program Gives Drinkers a Lift', 'kicker': '1', 'content_kicker': None, 'print_headline': None, 'name': None, 'seo': None, 'sub': None}, {'main': 'Front Page 7 -- No Title', 'kicker': '1', 'content_kicker': None, 'print_headline': None, 'name': None, 'seo': None, 'sub': None}, {'main': 'UNIONS AND BUILDERS READY FOR LONG FIGHT; None of the Strikers Back - Lock-Out Soon in Effect. 23,000 ALREADY INVOLVED Orders Sent to Every Building Employer Within Twenty-five Miles -- House-smiths Vote Not to Strike.', 'kicker': None, 'content_kicker': None, 'print_headline': None, 'name': None, 'seo': None, 'sub': None}]\n",
    "\"\"\""
   ]
  },
  {
   "cell_type": "markdown",
   "metadata": {},
   "source": [
    "Or if you want to just print the main headlines themselves with the following code:\n",
    "\n",
    "> In the cell below, type the following code to print the `main` element of each `headline`:\n",
    "\n",
    "with a for loop:\n",
    "```\n",
    "for doc in docs:\n",
    "    print(doc['headline']['main'])\n",
    "\n",
    "```\n",
    "or with list comprehension:\n",
    "```\n",
    "print([doc['headline']['main'] for doc in docs])\n",
    "```"
   ]
  },
  {
   "cell_type": "code",
   "execution_count": null,
   "metadata": {},
   "outputs": [],
   "source": [
    "# replace this comment with the code to print each individual headline using either a for loop or list comprehension"
   ]
  },
  {
   "cell_type": "code",
   "execution_count": null,
   "metadata": {},
   "outputs": [],
   "source": [
    "# -EXPECTED OUTPUT-\n",
    "\"\"\"\n",
    "HIGGINS, SPENT $22,189.53.; Governor-Elect's Election Expenses -- Harrison $9,220.28.\n",
    "GARDEN BOUTS CANCELED; Mauriello Says He Could Not Be Ready on Nov. 3\n",
    "Stock Drop Is Biggest in 2 Months--Margin Rise Held Factor in Lightest Trading of 1955\n",
    "MUSIC OF THE WEEK\n",
    "Anacomp Inc. reports earnings for Qtr to March 31\n",
    "Brooklyn Routs Yeshiva\n",
    "Albuquerque Program Gives Drinkers a Lift\n",
    "Front Page 7 -- No Title\n",
    "UNIONS AND BUILDERS READY FOR LONG FIGHT; None of the Strikers Back - Lock-Out Soon in Effect. 23,000 ALREADY INVOLVED Orders Sent to Every Building Employer Within Twenty-five Miles -- House-smiths Vote Not to Strike.\n",
    "\"\"\"\n",
    "\n",
    "# or with list comprehension\n",
    "\n",
    "\"\"\"[\"HIGGINS, SPENT $22,189.53.; Governor-Elect's Election Expenses -- Harrison $9,220.28.\", 'GARDEN BOUTS CANCELED; Mauriello Says He Could Not Be Ready on Nov. 3', 'Stock Drop Is Biggest in 2 Months--Margin Rise Held Factor in Lightest Trading of 1955', 'MUSIC OF THE WEEK', 'Anacomp Inc. reports earnings for Qtr to March 31', 'Brooklyn Routs Yeshiva', 'Albuquerque Program Gives Drinkers a Lift', 'Front Page 7 -- No Title', 'UNIONS AND BUILDERS READY FOR LONG FIGHT; None of the Strikers Back - Lock-Out Soon in Effect. 23,000 ALREADY INVOLVED Orders Sent to Every Building Employer Within Twenty-five Miles -- House-smiths Vote Not to Strike.']\n",
    "\"\"\""
   ]
  },
  {
   "cell_type": "markdown",
   "metadata": {},
   "source": [
    "## Flattening Data (i.e. Breaking Out Nested Data)\n",
    "\n",
    "Let's say we want to create a list of dictionaries containing information about the documents contained in this JSON. It should contain the publication date (value associated with `pub_date` key), word count (value associated with `word_count` key), and both the `'main'` and `'kicker'` associated with the `headline` key. This list should be called `doc_info_list` and should look something like this:\n",
    "\n",
    "```python\n",
    "[\n",
    "    {\n",
    "        'headline_main': \"HIGGINS, SPENT $22,189.53.; Governor-Elect's Election Expenses -- Harrison $9,220.28.\",\n",
    "        'headline_kicker': None,\n",
    "        'pub_date': '1904-11-17T00:00:00Z',\n",
    "        'word_count': 213\n",
    "    },\n",
    "    {\n",
    "        'headline_main': 'GARDEN BOUTS CANCELED; Mauriello Says He Could Not Be Ready on Nov. 3',\n",
    "        'headline_kicker': '1',\n",
    "        'pub_date': '1944-10-23T00:00:00Z',\n",
    "        'word_count': 149\n",
    "    },\n",
    "    ...\n",
    "]\n",
    "```\n",
    "\n",
    "The tricky part is, each dictionary needs to be \"flat\", meaning that each key is associated with a single string or number value, not a deeper data structure. So we need to flatten the nested `headline` dictionary.\n",
    "\n",
    "It's also conventional when flattening data to make a compound name for the newly-created keys. So, let's call the new keys `headline_main` and `headline_kicker`.\n",
    "\n",
    "Recall the structure of a `headline` dictionary:\n",
    "\n",
    "> Print out one of the `headline` elements by typing in the following code:\n",
    "\n",
    "```\n",
    "docs[2]['headline']\n",
    "```"
   ]
  },
  {
   "cell_type": "code",
   "execution_count": 45,
   "metadata": {},
   "outputs": [
    {
     "data": {
      "text/plain": [
       "[{'web_url': 'https://query.nytimes.com/gst/abstract.html?res=9C05E3D7113DE633A25754C1A9679D946597D6CF',\n",
       "  'snippet': 'Spent $22,200',\n",
       "  'abstract': 'Spent $22,200',\n",
       "  'print_page': '2',\n",
       "  'blog': {},\n",
       "  'source': 'The New York Times',\n",
       "  'multimedia': [],\n",
       "  'headline': {'main': \"HIGGINS, SPENT $22,189.53.; Governor-Elect's Election Expenses -- Harrison $9,220.28.\",\n",
       "   'kicker': None,\n",
       "   'content_kicker': None,\n",
       "   'print_headline': None,\n",
       "   'name': None,\n",
       "   'seo': None,\n",
       "   'sub': None},\n",
       "  'keywords': [{'name': 'persons',\n",
       "    'value': 'HIGGINS, LT. GOV.',\n",
       "    'rank': 0,\n",
       "    'major': None}],\n",
       "  'pub_date': '1904-11-17T00:00:00Z',\n",
       "  'document_type': 'article',\n",
       "  'type_of_material': 'Article',\n",
       "  '_id': '4fc04eb745c1498b0d23da00',\n",
       "  'word_count': 213,\n",
       "  'score': 1},\n",
       " {'web_url': 'https://query.nytimes.com/gst/abstract.html?res=9E07E6DA1F3BE433A25750C2A9669D946593D6CF',\n",
       "  'snippet': '',\n",
       "  'print_page': '15',\n",
       "  'blog': {},\n",
       "  'source': 'The New York Times',\n",
       "  'multimedia': [],\n",
       "  'headline': {'main': 'GARDEN BOUTS CANCELED; Mauriello Says He Could Not Be Ready on Nov. 3',\n",
       "   'kicker': '1',\n",
       "   'content_kicker': None,\n",
       "   'print_headline': None,\n",
       "   'name': None,\n",
       "   'seo': None,\n",
       "   'sub': None},\n",
       "  'keywords': [],\n",
       "  'pub_date': '1944-10-23T00:00:00Z',\n",
       "  'document_type': 'article',\n",
       "  'type_of_material': 'Article',\n",
       "  '_id': '4fc21ebf45c1498b0d612b22',\n",
       "  'word_count': 149,\n",
       "  'score': 1},\n",
       " {'web_url': 'https://query.nytimes.com/gst/abstract.html?res=9E07E1DB1330E531A15756C1A9639C946492D6CF',\n",
       "  'snippet': 'Stock prices last week, on the lightest volume of the year, sustained the largest losses in about two months. Some technicians were inclined to believe that if offerings became heavier on the decline, the averages could challenge the lows of the f...',\n",
       "  'print_page': 'F1',\n",
       "  'blog': {},\n",
       "  'source': 'The New York Times',\n",
       "  'multimedia': [],\n",
       "  'headline': {'main': 'Stock Drop Is Biggest in 2 Months--Margin Rise Held Factor in Lightest Trading of 1955',\n",
       "   'kicker': '1',\n",
       "   'content_kicker': None,\n",
       "   'print_headline': None,\n",
       "   'name': None,\n",
       "   'seo': None,\n",
       "   'sub': None},\n",
       "  'keywords': [],\n",
       "  'pub_date': '1955-05-15T00:00:00Z',\n",
       "  'document_type': 'article',\n",
       "  'byline': {'original': 'By JOHN G. FORREST',\n",
       "   'person': [{'firstname': 'John',\n",
       "     'middlename': 'G.',\n",
       "     'lastname': 'FORREST',\n",
       "     'qualifier': None,\n",
       "     'title': None,\n",
       "     'role': 'reported',\n",
       "     'organization': '',\n",
       "     'rank': 1}],\n",
       "   'organization': None},\n",
       "  'type_of_material': 'Article',\n",
       "  '_id': '4fc3b41d45c1498b0d7fd41e',\n",
       "  'word_count': 823,\n",
       "  'score': 1},\n",
       " {'web_url': 'https://query.nytimes.com/gst/abstract.html?res=9504EEDE123BE733A25755C0A9679D946597D6CF',\n",
       "  'snippet': 'The first public rehearsal and concert of the Philharmonic Society will be given at Carnegie Hall on Friday afternoon and Saturday evening. Gustav F. Kogel, the former director of the Museum Concert at Frankfort-on-the-Main, will be the conductor....',\n",
       "  'abstract': 'Healy, Michael, will suit',\n",
       "  'print_page': '20',\n",
       "  'blog': {},\n",
       "  'source': 'The New York Times',\n",
       "  'multimedia': [],\n",
       "  'headline': {'main': 'MUSIC OF THE WEEK',\n",
       "   'kicker': None,\n",
       "   'content_kicker': None,\n",
       "   'print_headline': None,\n",
       "   'name': None,\n",
       "   'seo': None,\n",
       "   'sub': None},\n",
       "  'keywords': [{'name': 'persons',\n",
       "    'value': 'HEALY, MICHAEL',\n",
       "    'rank': 0,\n",
       "    'major': None}],\n",
       "  'pub_date': '1904-11-06T00:00:00Z',\n",
       "  'document_type': 'article',\n",
       "  'type_of_material': 'Article',\n",
       "  '_id': '4fc04eb745c1498b0d23da12',\n",
       "  'word_count': 2609,\n",
       "  'score': 1},\n",
       " {'web_url': 'https://www.nytimes.com/1992/05/06/business/anacomp-inc-reports-earnings-for-qtr-to-march-31.html',\n",
       "  'snippet': '',\n",
       "  'print_page': '20',\n",
       "  'blog': {},\n",
       "  'source': 'The New York Times',\n",
       "  'multimedia': [],\n",
       "  'headline': {'main': 'Anacomp Inc. reports earnings for Qtr to March 31',\n",
       "   'kicker': None,\n",
       "   'content_kicker': None,\n",
       "   'print_headline': None,\n",
       "   'name': None,\n",
       "   'seo': None,\n",
       "   'sub': None},\n",
       "  'keywords': [{'name': 'subject',\n",
       "    'value': 'COMPANY EARNINGS',\n",
       "    'rank': 0,\n",
       "    'major': None}],\n",
       "  'pub_date': '1992-05-06T00:00:00Z',\n",
       "  'document_type': 'article',\n",
       "  'news_desk': 'Financial Desk',\n",
       "  'type_of_material': 'Statistics',\n",
       "  '_id': '4fd1b3018eb7c8105d6d690a',\n",
       "  'word_count': 129,\n",
       "  'score': 1},\n",
       " {'web_url': 'https://query.nytimes.com/gst/abstract.html?res=9503EFDF153DE53ABC4C51DFB4678389669EDE',\n",
       "  'snippet': '',\n",
       "  'print_page': 'S9',\n",
       "  'blog': {},\n",
       "  'source': 'The New York Times',\n",
       "  'multimedia': [],\n",
       "  'headline': {'main': 'Brooklyn Routs Yeshiva',\n",
       "   'kicker': '1',\n",
       "   'content_kicker': None,\n",
       "   'print_headline': None,\n",
       "   'name': None,\n",
       "   'seo': None,\n",
       "   'sub': None},\n",
       "  'keywords': [],\n",
       "  'pub_date': '1972-12-24T00:00:00Z',\n",
       "  'document_type': 'article',\n",
       "  'type_of_material': 'Article',\n",
       "  '_id': '4fc47bb045c1498b0da03363',\n",
       "  'word_count': 144,\n",
       "  'score': 1},\n",
       " {'web_url': 'https://query.nytimes.com/gst/abstract.html?res=9F03E1DA1631E63BBC4D51DFB4678389669EDE',\n",
       "  'snippet': 'ALBUQUERQUE, N. M., Dec. 24 -- Holiday drinkers who have drunk too much can get free rides home from now until Jan. 2 through a test program being carried out by taxi companies, university students and a local alcohol safety organization.  ',\n",
       "  'print_page': '11',\n",
       "  'blog': {},\n",
       "  'source': 'The New York Times',\n",
       "  'multimedia': [],\n",
       "  'headline': {'main': 'Albuquerque Program Gives Drinkers a Lift',\n",
       "   'kicker': '1',\n",
       "   'content_kicker': None,\n",
       "   'print_headline': None,\n",
       "   'name': None,\n",
       "   'seo': None,\n",
       "   'sub': None},\n",
       "  'keywords': [],\n",
       "  'pub_date': '1972-12-25T00:00:00Z',\n",
       "  'document_type': 'article',\n",
       "  'byline': {'original': 'Special to The New York Times',\n",
       "   'person': [{'firstname': None,\n",
       "     'middlename': None,\n",
       "     'lastname': None,\n",
       "     'qualifier': None,\n",
       "     'title': None,\n",
       "     'role': 'reported',\n",
       "     'organization': '',\n",
       "     'rank': 1}],\n",
       "   'organization': None},\n",
       "  'type_of_material': 'Article',\n",
       "  '_id': '4fc47bb045c1498b0da03367',\n",
       "  'word_count': 151,\n",
       "  'score': 1},\n",
       " {'web_url': 'https://query.nytimes.com/gst/abstract.html?res=9905E6DD153EE03BBC4C51DFB667838F659EDE',\n",
       "  'snippet': '',\n",
       "  'print_page': '1',\n",
       "  'blog': {},\n",
       "  'source': 'The New York Times',\n",
       "  'multimedia': [],\n",
       "  'headline': {'main': 'Front Page 7 -- No Title',\n",
       "   'kicker': '1',\n",
       "   'content_kicker': None,\n",
       "   'print_headline': None,\n",
       "   'name': None,\n",
       "   'seo': None,\n",
       "   'sub': None},\n",
       "  'keywords': [],\n",
       "  'pub_date': '1944-10-24T00:00:00Z',\n",
       "  'document_type': 'article',\n",
       "  'type_of_material': 'Front Page',\n",
       "  '_id': '4fc21ebf45c1498b0d612b3c',\n",
       "  'word_count': 29,\n",
       "  'score': 1},\n",
       " {'web_url': 'https://query.nytimes.com/gst/abstract.html?res=9507EFDB1F3AE733A25755C0A96E9C946597D6CF',\n",
       "  'snippet': 'The employers and the unions have lined up in preparation for a long fight in the building war. An indication of the feeling that this will be a real fight is the appointment of a regular Press Committee by the employers. Members of their associat...',\n",
       "  'abstract': \"housesmiths won't strike\",\n",
       "  'print_page': '1',\n",
       "  'blog': {},\n",
       "  'source': 'The New York Times',\n",
       "  'multimedia': [],\n",
       "  'headline': {'main': 'UNIONS AND BUILDERS READY FOR LONG FIGHT; None of the Strikers Back - Lock-Out Soon in Effect. 23,000 ALREADY INVOLVED Orders Sent to Every Building Employer Within Twenty-five Miles -- House-smiths Vote Not to Strike.',\n",
       "   'kicker': None,\n",
       "   'content_kicker': None,\n",
       "   'print_headline': None,\n",
       "   'name': None,\n",
       "   'seo': None,\n",
       "   'sub': None},\n",
       "  'keywords': [{'name': 'glocations',\n",
       "    'value': 'NEW YORK CITY',\n",
       "    'rank': 0,\n",
       "    'major': None},\n",
       "   {'name': 'subject', 'value': 'STRIKES', 'rank': 0, 'major': None},\n",
       "   {'name': 'subject',\n",
       "    'value': 'PENN. MINERS THREATEN',\n",
       "    'rank': 0,\n",
       "    'major': None},\n",
       "   {'name': 'subject',\n",
       "    'value': 'BLDG. TRADES EMP. ASS. MAY LOCK OUT 30,000',\n",
       "    'rank': 0,\n",
       "    'major': None},\n",
       "   {'name': 'subject',\n",
       "    'value': '23,000 MEN INVOLVED',\n",
       "    'rank': 0,\n",
       "    'major': None}],\n",
       "  'pub_date': '1904-08-06T00:00:00Z',\n",
       "  'document_type': 'article',\n",
       "  'type_of_material': 'Front Page',\n",
       "  '_id': '4fc04eb745c1498b0d23da17',\n",
       "  'word_count': 883,\n",
       "  'score': 1}]"
      ]
     },
     "execution_count": 45,
     "metadata": {},
     "output_type": "execute_result"
    }
   ],
   "source": [
    "docs"
   ]
  },
  {
   "cell_type": "code",
   "execution_count": 47,
   "metadata": {},
   "outputs": [
    {
     "data": {
      "text/plain": [
       "{'main': 'Stock Drop Is Biggest in 2 Months--Margin Rise Held Factor in Lightest Trading of 1955',\n",
       " 'kicker': '1',\n",
       " 'content_kicker': None,\n",
       " 'print_headline': None,\n",
       " 'name': None,\n",
       " 'seo': None,\n",
       " 'sub': None}"
      ]
     },
     "execution_count": 47,
     "metadata": {},
     "output_type": "execute_result"
    }
   ],
   "source": [
    "# replace this comment with the code to display one of the headline elements\n",
    "docs[2]['headline']"
   ]
  },
  {
   "cell_type": "code",
   "execution_count": null,
   "metadata": {},
   "outputs": [],
   "source": [
    "# -EXPECTED OUTPUT-\n",
    "\"\"\"\n",
    "{'main': 'Stock Drop Is Biggest in 2 Months--Margin Rise Held Factor in Lightest Trading of 1955',\n",
    " 'kicker': '1',\n",
    " 'content_kicker': None,\n",
    " 'print_headline': None,\n",
    " 'name': None,\n",
    " 'seo': None,\n",
    " 'sub': None}\n",
    "\"\"\""
   ]
  },
  {
   "cell_type": "markdown",
   "metadata": {},
   "source": [
    "So, first let's write a function that takes in that complete dictionary, and returns a copy with only the `'main'` and `'kicker'` keys and values, now labeled `'headline_main'` and `'headline_kicker'`:\n",
    "\n",
    "> In the cell below, type the following code to extract the desired information:\n",
    "\n",
    "```\n",
    "def extract_headline_info(headline_dict):\n",
    "    result = {}\n",
    "    result['headline_main'] = headline_dict['main']\n",
    "    result['headline_kicker'] = headline_dict['kicker']\n",
    "    return result\n",
    "```"
   ]
  },
  {
   "cell_type": "markdown",
   "metadata": {},
   "source": [
    "Task:\n",
    "* Write a function that takes in that complete dictionary, and returns a copy with only the 'main' and 'kicker' keys and values, now labeled 'headline_main' and 'headline_kicker'"
   ]
  },
  {
   "cell_type": "code",
   "execution_count": 55,
   "metadata": {},
   "outputs": [
    {
     "data": {
      "text/plain": [
       "{'main': 'Stock Drop Is Biggest in 2 Months--Margin Rise Held Factor in Lightest Trading of 1955',\n",
       " 'kicker': '1',\n",
       " 'content_kicker': None,\n",
       " 'print_headline': None,\n",
       " 'name': None,\n",
       " 'seo': None,\n",
       " 'sub': None}"
      ]
     },
     "execution_count": 55,
     "metadata": {},
     "output_type": "execute_result"
    }
   ],
   "source": [
    "headline"
   ]
  },
  {
   "cell_type": "code",
   "execution_count": 56,
   "metadata": {},
   "outputs": [
    {
     "data": {
      "text/plain": [
       "'Stock Drop Is Biggest in 2 Months--Margin Rise Held Factor in Lightest Trading of 1955'"
      ]
     },
     "execution_count": 56,
     "metadata": {},
     "output_type": "execute_result"
    }
   ],
   "source": [
    "headline_dict = docs[2]['headline']\n",
    "headline_main = headline_dict['main']\n",
    "headline_main\n",
    "\n",
    "#"
   ]
  },
  {
   "cell_type": "code",
   "execution_count": 57,
   "metadata": {},
   "outputs": [
    {
     "data": {
      "text/plain": [
       "'1'"
      ]
     },
     "execution_count": 57,
     "metadata": {},
     "output_type": "execute_result"
    }
   ],
   "source": [
    "headline_dict = docs[2]['headline']\n",
    "\n",
    "headline_kicker = headline_dict['kicker']\n",
    "headline_kicker"
   ]
  },
  {
   "cell_type": "code",
   "execution_count": null,
   "metadata": {},
   "outputs": [],
   "source": [
    "result['headline_main'] = headline_dict['main']\n",
    "result['headline_kicker'] = headline_dict['kicker']"
   ]
  },
  {
   "cell_type": "code",
   "execution_count": 58,
   "metadata": {},
   "outputs": [],
   "source": [
    "# replace this comment with the code to define the desired function\n",
    "def extract_headline_info(headline_dict):\n",
    "    output = {}\n",
    "    output['headline_main'] = headline_dict['main']\n",
    "    output['headline_kicker'] = headline_dict['kicker']\n",
    "    return output\n",
    "    \n",
    "    "
   ]
  },
  {
   "cell_type": "code",
   "execution_count": 59,
   "metadata": {},
   "outputs": [
    {
     "data": {
      "text/plain": [
       "{'main': 'Stock Drop Is Biggest in 2 Months--Margin Rise Held Factor in Lightest Trading of 1955',\n",
       " 'kicker': '1',\n",
       " 'content_kicker': None,\n",
       " 'print_headline': None,\n",
       " 'name': None,\n",
       " 'seo': None,\n",
       " 'sub': None}"
      ]
     },
     "execution_count": 59,
     "metadata": {},
     "output_type": "execute_result"
    }
   ],
   "source": [
    "headline"
   ]
  },
  {
   "cell_type": "code",
   "execution_count": 60,
   "metadata": {},
   "outputs": [
    {
     "data": {
      "text/plain": [
       "{'headline_main': 'Stock Drop Is Biggest in 2 Months--Margin Rise Held Factor in Lightest Trading of 1955',\n",
       " 'headline_kicker': '1'}"
      ]
     },
     "execution_count": 60,
     "metadata": {},
     "output_type": "execute_result"
    }
   ],
   "source": [
    "extract_headline_info(headline)"
   ]
  },
  {
   "cell_type": "markdown",
   "metadata": {},
   "source": [
    "Then we can test it out:\n",
    "\n",
    "> In the cell below, type the following code to test the function:\n",
    "\n",
    "```\n",
    "extract_headline_info(docs[2]['headline'])\n",
    "```"
   ]
  },
  {
   "cell_type": "code",
   "execution_count": null,
   "metadata": {},
   "outputs": [],
   "source": [
    "# replace this comment with the code to test out the funtion"
   ]
  },
  {
   "cell_type": "code",
   "execution_count": null,
   "metadata": {},
   "outputs": [],
   "source": [
    "# -EXPECTED OUTPUT-\n",
    "\"\"\"\n",
    "{'headline_main': 'Stock Drop Is Biggest in 2 Months--Margin Rise Held Factor in Lightest Trading of 1955',\n",
    " 'headline_kicker': '1'}\n",
    "\"\"\""
   ]
  },
  {
   "cell_type": "markdown",
   "metadata": {},
   "source": [
    "Now let's write another function that calls that function, then adds the `pub_date` and `word_count` keys and values:\n",
    "\n",
    "> In the cell below type the following code to define a function that calls our other function and adds the `pub_date` and `word_count` keys and values:\n",
    "```\n",
    "def extract_doc_info(doc):\n",
    "    info = extract_headline_info(doc['headline'])\n",
    "    info['pub_date'] = doc['pub_date']\n",
    "    info['word_count'] = doc['word_count']\n",
    "    return info\n",
    "```"
   ]
  },
  {
   "cell_type": "code",
   "execution_count": null,
   "metadata": {},
   "outputs": [],
   "source": [
    "# replace this comment with the code to define the desired function"
   ]
  },
  {
   "cell_type": "markdown",
   "metadata": {},
   "source": [
    "Again, testing it out on a couple examples:\n",
    "\n",
    "> In the cells below, type the following code to test the function changing the index as necessary:\n",
    "\n",
    "```\n",
    "extract_doc_info(docs[2])\n",
    "```"
   ]
  },
  {
   "cell_type": "code",
   "execution_count": null,
   "metadata": {},
   "outputs": [],
   "source": [
    "# replace this comment with the code to test out the function on the element at index 2"
   ]
  },
  {
   "cell_type": "code",
   "execution_count": null,
   "metadata": {},
   "outputs": [],
   "source": [
    "# -EXPECTED OUTPUT-\n",
    "\"\"\"\n",
    "{'headline_main': 'Stock Drop Is Biggest in 2 Months--Margin Rise Held Factor in Lightest Trading of 1955',\n",
    " 'headline_kicker': '1',\n",
    " 'pub_date': '1955-05-15T00:00:00Z',\n",
    " 'word_count': 823}\n",
    "\"\"\""
   ]
  },
  {
   "cell_type": "code",
   "execution_count": null,
   "metadata": {},
   "outputs": [],
   "source": [
    "# replace this comment with the code to test out the function on the element at index 2"
   ]
  },
  {
   "cell_type": "code",
   "execution_count": null,
   "metadata": {},
   "outputs": [],
   "source": [
    "# -EXPECTED OUTPUT-\n",
    "\"\"\"\n",
    "{'headline_main': \"HIGGINS, SPENT $22,189.53.; Governor-Elect's Election Expenses -- Harrison $9,220.28.\",\n",
    " 'headline_kicker': None,\n",
    " 'pub_date': '1904-11-17T00:00:00Z',\n",
    " 'word_count': 213}\n",
    "\"\"\""
   ]
  },
  {
   "cell_type": "markdown",
   "metadata": {},
   "source": [
    "Now we can loop over the full list and create `doc_info_list`:\n",
    "\n",
    "> In the cell below, type following code to create a loop that creates the desired list using the function just created, then print out the results:\n",
    "\n",
    "either with a for loop:\n",
    "```\n",
    "doc_info_list = []\n",
    "for doc in docs:\n",
    "   doc_info_list.append(extract_doc_info(doc))\n",
    "doc_info_list\n",
    "```\n",
    "or with list comprehension:\n",
    "```\n",
    "doc_info_list = [extract_doc_info(doc) for doc in docs]\n",
    "doc_info_list\n",
    "```"
   ]
  },
  {
   "cell_type": "code",
   "execution_count": null,
   "metadata": {},
   "outputs": [],
   "source": [
    "# replace this comment with the code to create the desired list with a loop"
   ]
  },
  {
   "cell_type": "code",
   "execution_count": null,
   "metadata": {},
   "outputs": [],
   "source": [
    "# -EXPECTED OUTPUT-\n",
    "\"\"\"\n",
    "Output exceeds the size limit. Open the full output data in a text editor\n",
    "\n",
    "[{'headline_main': \"HIGGINS, SPENT $22,189.53.; Governor-Elect's Election Expenses -- Harrison $9,220.28.\",\n",
    "  'headline_kicker': None,\n",
    "  'pub_date': '1904-11-17T00:00:00Z',\n",
    "  'word_count': 213},\n",
    " {'headline_main': 'GARDEN BOUTS CANCELED; Mauriello Says He Could Not Be Ready on Nov. 3',\n",
    "  'headline_kicker': '1',\n",
    "  'pub_date': '1944-10-23T00:00:00Z',\n",
    "  'word_count': 149},\n",
    " {'headline_main': 'Stock Drop Is Biggest in 2 Months--Margin Rise Held Factor in Lightest Trading of 1955',\n",
    "  'headline_kicker': '1',\n",
    "  'pub_date': '1955-05-15T00:00:00Z',\n",
    "  'word_count': 823},\n",
    " {'headline_main': 'MUSIC OF THE WEEK',\n",
    "  'headline_kicker': None,\n",
    "  'pub_date': '1904-11-06T00:00:00Z',\n",
    "  'word_count': 2609},\n",
    " {'headline_main': 'Anacomp Inc. reports earnings for Qtr to March 31',\n",
    "  'headline_kicker': None,\n",
    "  'pub_date': '1992-05-06T00:00:00Z',\n",
    "  'word_count': 129},\n",
    " {'headline_main': 'Brooklyn Routs Yeshiva',\n",
    "  'headline_kicker': '1',\n",
    "  'pub_date': '1972-12-24T00:00:00Z',\n",
    "  'word_count': 144},\n",
    " {'headline_main': 'Albuquerque Program Gives Drinkers a Lift',\n",
    "  'pub_date': '1944-10-24T00:00:00Z',\n",
    "  'word_count': 29},\n",
    " {'headline_main': 'UNIONS AND BUILDERS READY FOR LONG FIGHT; None of the Strikers Back - Lock-Out Soon in Effect. 23,000 ALREADY INVOLVED Orders Sent to Every Building Employer Within Twenty-five Miles -- House-smiths Vote Not to Strike.',\n",
    "  'headline_kicker': None,\n",
    "  'pub_date': '1904-08-06T00:00:00Z',\n",
    "  'word_count': 883}]\n",
    "\"\"\""
   ]
  },
  {
   "cell_type": "markdown",
   "metadata": {},
   "source": [
    "Thus we have successfully flattened the required data"
   ]
  },
  {
   "cell_type": "markdown",
   "metadata": {},
   "source": [
    "## Transforming JSON to Alternative Formats\n",
    "\n",
    "### Viewing the Raw Dataset in Pandas\n",
    "\n",
    "You've also previously started to take a look at how to transform JSON to DataFrames. Investigating the schema, a good option for this could again be the value associated with the `'docs'` key. While this still has nested data itself, it's often easier to load the entire contents as a DataFrame for viewing and then use additional functions to break apart the internally nested data from there.\n",
    "\n",
    "So, first we will display the full information associated with the `'docs'` key:\n",
    "\n",
    "> In the cell below, first import pandas using the standard alias, then type the code to create a DataFrame of the info found in data->response->docs:\n",
    "\n",
    "```\n",
    "pd.DataFrame(data['response']['docs'])\n",
    "```"
   ]
  },
  {
   "cell_type": "code",
   "execution_count": null,
   "metadata": {},
   "outputs": [],
   "source": [
    "import pandas as pd\n",
    "df = pd.DataFrame(data['response']['docs'])\n",
    "df.shape"
   ]
  },
  {
   "cell_type": "code",
   "execution_count": null,
   "metadata": {},
   "outputs": [],
   "source": [
    "# replace this comment with the code to import pandas using the standard alias\n",
    "\n",
    "# replace this comment with the code to create the desired DataFrame"
   ]
  },
  {
   "cell_type": "markdown",
   "metadata": {},
   "source": [
    "Note that because the value associated with the `'headline'` key is a dictionary, it is displayed in this crowded, messy way within the DataFrame, including `{` and `'` characters."
   ]
  },
  {
   "cell_type": "markdown",
   "metadata": {},
   "source": [
    "### Viewing the Flattened Info List\n",
    "\n",
    "Because `doc_info_list` is already flattened so the value associated with each key is just a number or string, it looks much neater when loaded into pandas:\n",
    "\n",
    "> In the cell below, type the following code to create a DataFrame from `doc_info_list`:\n",
    "\n",
    "```\n",
    "pd.DataFrame(doc_info_list)\n",
    "```"
   ]
  },
  {
   "cell_type": "code",
   "execution_count": null,
   "metadata": {},
   "outputs": [],
   "source": [
    "# replace this comment with the code to create the desired DataFrame"
   ]
  },
  {
   "cell_type": "markdown",
   "metadata": {},
   "source": [
    "We could also re-create this from the raw data using pandas rather than base Python:\n",
    "\n",
    "> In the cell below, type the following code to create the DataFrame using pandas:\n",
    "\n",
    "First, create a DataFrame of the raw docs info:\n",
    "```\n",
    "df = pd.DataFrame(data['response']['docs'])\n",
    "```\n",
    "Next, make new columns for `headline_main` and `headline_kicker`\n",
    "```\n",
    "df['headline_main'] = df['headline'].apply(lambda headline_dict: headline_dict['main'])\n",
    "df['headline_kicker'] = df['headline'].apply(lambda headline_dict: headline_dict['kicker'])\n",
    "```\n",
    "Finally, subset to only the relevent columns and display the DataFrame and then display the DataFrame:\n",
    "```\n",
    "df = df[['headline_main', 'headline_kicker', 'pub_date', 'word_count']]\n",
    "df\n",
    "```"
   ]
  },
  {
   "cell_type": "code",
   "execution_count": null,
   "metadata": {},
   "outputs": [],
   "source": []
  },
  {
   "cell_type": "code",
   "execution_count": null,
   "metadata": {},
   "outputs": [],
   "source": [
    "# replace this comment with the code to create DataFrame of raw docs info\n",
    "\n",
    "# replace this comment with the code to make new headline_main and headline_kicker columns\n",
    "\n",
    "# replace this comment with the code to subset to only the relevant columns\n",
    "\n",
    "# replace this comment with the code to display the DataFrame"
   ]
  },
  {
   "cell_type": "code",
   "execution_count": null,
   "metadata": {},
   "outputs": [],
   "source": [
    "# -EXPECTED OUTPUT-\n",
    "# a pandas DataFrame with 9 rows and 5 columns"
   ]
  },
  {
   "cell_type": "markdown",
   "metadata": {},
   "source": [
    "This is a good general strategy for transforming nested JSON: create a DataFrame and then break out nested features into their own column features."
   ]
  },
  {
   "cell_type": "markdown",
   "metadata": {},
   "source": [
    "## Outputting to JSON\n",
    "\n",
    "Finally, take a look at how you can write data back to JSON. Like loading, you first open a file (this time in write mode) and use the json package to interact with that file object. Only instead of `json.load` to load the contents of the file into a Python object, you call `json.dump` to write the contents of the Python object into the file.\n",
    "\n",
    "> In the cell below, type the following code to write the data to a JSON file:\n",
    "\n",
    "```\n",
    "with open('doc_info_list.json', 'w') as f:\n",
    "    json.dump(doc_info_list, f)\n",
    "```"
   ]
  },
  {
   "cell_type": "code",
   "execution_count": null,
   "metadata": {},
   "outputs": [],
   "source": [
    "# replace this comment with the code to write the data to a json file"
   ]
  },
  {
   "cell_type": "markdown",
   "metadata": {},
   "source": [
    "Then if we want to load that cleaned dataset for future use, we can open that new file:\n",
    "\n",
    "> In the cell below, type the following code to load the file we just created:\n",
    "\n",
    "```\n",
    "with open('doc_info_list.json') as f:\n",
    "    doc_info_list_from_disk = json.load(f)\n",
    "```"
   ]
  },
  {
   "cell_type": "code",
   "execution_count": null,
   "metadata": {},
   "outputs": [],
   "source": [
    "# replace this comment with the code to load the file just created"
   ]
  },
  {
   "cell_type": "markdown",
   "metadata": {},
   "source": [
    "The new file should contain identical information to the original Python variable:\n",
    "\n",
    "> In the cell below, type the following code to check that the data in `doc_info_list` is the same as the data in `doc_info_list_from_disk`:\n",
    "\n",
    "```\n",
    "doc_info_list_from_disk == doc_info_list\n",
    "```"
   ]
  },
  {
   "cell_type": "code",
   "execution_count": null,
   "metadata": {},
   "outputs": [],
   "source": [
    "# replace this comment with the code to check that the two files contain the same data"
   ]
  },
  {
   "cell_type": "code",
   "execution_count": null,
   "metadata": {},
   "outputs": [],
   "source": [
    "# -EXPECTED OUTPUT-\n",
    "# True"
   ]
  },
  {
   "cell_type": "markdown",
   "metadata": {},
   "source": [
    "## Summary\n",
    "There you have it. In this, you practiced using JSON some more, this time interpreting an example schema diagram in order to retrieve information. You also looked at a general procedure for transforming nested data to pandas DataFrames (create a DataFrame, and then break apart nested data using lambda functions to create additional columns). Finally, you also took a brief look at saving data to JSON files. "
   ]
  }
 ],
 "metadata": {
  "kernelspec": {
   "display_name": "Python 3",
   "language": "python",
   "name": "python3"
  },
  "language_info": {
   "codemirror_mode": {
    "name": "ipython",
    "version": 3
   },
   "file_extension": ".py",
   "mimetype": "text/x-python",
   "name": "python",
   "nbconvert_exporter": "python",
   "pygments_lexer": "ipython3",
   "version": "3.8.5"
  },
  "toc": {
   "base_numbering": 1,
   "nav_menu": {},
   "number_sections": true,
   "sideBar": true,
   "skip_h1_title": false,
   "title_cell": "Table of Contents",
   "title_sidebar": "Contents",
   "toc_cell": false,
   "toc_position": {},
   "toc_section_display": true,
   "toc_window_display": false
  }
 },
 "nbformat": 4,
 "nbformat_minor": 2
}
